{
 "cells": [
  {
   "cell_type": "markdown",
   "id": "18a4a6e0",
   "metadata": {},
   "source": [
    "# TP1 – Analyse des données (IFT599 / IFT799)\n",
    "\n",
    "## 3.3 Analyse de séquences\n",
    "\n",
    "### 1. Building Transaction Sequences\n",
    "\n",
    "We started from the transactions_data table as the backbone.\n",
    "\n",
    "We extended the transactions table by joining with:\n",
    "- `mcc_codes` → to replace merchant category codes with readable descriptions.\n",
    "- `fraud_labels` → to tag each transaction as fraudulent or not.\n",
    "\n",
    "We then kept the key columns: `client_id`, `date`, `amount`, `mcc_description`, and `is_fraud`.\n",
    "\n",
    "Transactions were sorted chronologically within each client.\n",
    "\n",
    "Finally, we grouped by `client_id` and used a custom function to convert each client's ordered transactions into a list of events.\n",
    "\n",
    "This gave us sequences like:\n",
    "\n",
    "`client_id → [(Book Stores, 33.96, No), (Department Stores, 30.32, No), (Wholesale Clubs, 103.53, No)]`"
   ]
  },
  {
   "cell_type": "code",
   "execution_count": 1,
   "id": "5743016f",
   "metadata": {},
   "outputs": [],
   "source": [
    "# Import necessary libraries\n",
    "import pandas as pd\n",
    "import numpy as np\n",
    "import matplotlib.pyplot as plt\n",
    "import seaborn as sns\n",
    "import json"
   ]
  },
  {
   "cell_type": "code",
   "execution_count": 2,
   "id": "1d869ae4",
   "metadata": {},
   "outputs": [],
   "source": [
    "# Load transaction data\n",
    "transactions = pd.read_csv(\"data/transactions_data.csv\")\n",
    "\n",
    "# Load card information\n",
    "cards = pd.read_csv(\"data/cards_data.csv\")\n",
    "\n",
    "# Load user information\n",
    "users = pd.read_csv(\"data/users_data.csv\")\n",
    "\n",
    "# Load mcc codes information\n",
    "with open(\"data/mcc_codes.json\", \"r\") as f:\n",
    "    mcc_data = json.load(f)\n",
    "\n",
    "mcc_codes = pd.DataFrame(list(mcc_data.items()), columns=[\"code\", \"description\"])\n",
    "\n",
    "# Load fraud information\n",
    "with open(\"data/train_fraud_labels.json\", \"r\") as f:\n",
    "    fraud_data = json.load(f)\n",
    "\n",
    "# Extract the inner dictionary\n",
    "fraud_dict = fraud_data['target']\n",
    "\n",
    "# Convert to DataFrame\n",
    "fraud_labels = pd.DataFrame(list(fraud_dict.items()), columns=[\"transaction_id\", \"is_fraud\"])"
   ]
  },
  {
   "cell_type": "markdown",
   "id": "7b149153",
   "metadata": {},
   "source": [
    "Variables fron `transactions` we will use:\n",
    "- transaction_id (for joining with fraud labels later)\n",
    "- date (key: to order the sequence)\n",
    "- client_id (to group by client → one sequence per client)\n",
    "- card_id (if you want sequences at the card level instead of the user level)\n",
    "- amount (behavioral info)\n",
    "- mcc (merchant category → type of event)\n",
    "\n",
    "Expanded using:\n",
    "- mcc_codes: Join on transactions.mcc = mcc_codes.code. Use description to make the event human-readable (instead of raw codes).\n",
    "- fraud_labels: Join on transactions.id = fraud_labels.transaction_id. Adds is_fraud so you can tag events in the sequence."
   ]
  },
  {
   "cell_type": "code",
   "execution_count": 9,
   "id": "6240b3a9",
   "metadata": {},
   "outputs": [],
   "source": [
    "# Rename keys before merging\n",
    "transactions = transactions.rename(columns={\"id\": \"transaction_id\"})\n",
    "mcc_codes = mcc_codes.rename(columns={\"code\": \"mcc_code\", \"description\": \"mcc_description\"})"
   ]
  },
  {
   "cell_type": "code",
   "execution_count": 10,
   "id": "b20d7bd9",
   "metadata": {},
   "outputs": [],
   "source": [
    "# Ensure same dtype for transaction_id\n",
    "transactions[\"transaction_id\"] = transactions[\"transaction_id\"].astype(str)\n",
    "fraud_labels[\"transaction_id\"] = fraud_labels[\"transaction_id\"].astype(str)\n",
    "\n",
    "# Ensure same dtype for mcc\n",
    "transactions[\"mcc\"] = transactions[\"mcc\"].astype(str)\n",
    "mcc_codes[\"mcc_code\"] = mcc_codes[\"mcc_code\"].astype(str)"
   ]
  },
  {
   "cell_type": "code",
   "execution_count": 13,
   "id": "6bd94747",
   "metadata": {},
   "outputs": [],
   "source": [
    "# Merge transactions with MCC codes\n",
    "# transactions.mcc -> mcc_codes.code\n",
    "merged_df = transactions.merge(mcc_codes, left_on=\"mcc\", right_on=\"mcc_code\", how=\"left\")\n",
    "\n",
    "# Merge with fraud labels\n",
    "# transactions.id -> fraud_labels.transaction_id\n",
    "merged_df = merged_df.merge(fraud_labels, left_on=\"transaction_id\", right_on=\"transaction_id\", how=\"left\")"
   ]
  },
  {
   "cell_type": "code",
   "execution_count": 14,
   "id": "94693ab4",
   "metadata": {},
   "outputs": [
    {
     "name": "stdout",
     "output_type": "stream",
     "text": [
      "['transaction_id', 'date', 'client_id', 'card_id', 'amount', 'use_chip', 'merchant_id', 'merchant_city', 'merchant_state', 'zip', 'mcc', 'errors', 'mcc_code', 'mcc_description', 'is_fraud']\n"
     ]
    }
   ],
   "source": [
    "# List columns\n",
    "print(merged_df.columns.tolist())"
   ]
  },
  {
   "cell_type": "code",
   "execution_count": 16,
   "id": "d485b684",
   "metadata": {},
   "outputs": [],
   "source": [
    "# Keep useful columns for sequences\n",
    "seq_df = merged_df[[\n",
    "    \"transaction_id\",  # transaction ID\n",
    "    \"client_id\",       # user\n",
    "    \"date\",            # chronological order\n",
    "    \"amount\",          # spending amount\n",
    "    \"mcc_description\",     # MCC description (event type)\n",
    "    \"is_fraud\"         # fraud label\n",
    "]].copy()\n",
    "\n",
    "# Convert date column to datetime\n",
    "seq_df[\"date\"] = pd.to_datetime(seq_df[\"date\"])"
   ]
  },
  {
   "cell_type": "code",
   "execution_count": 17,
   "id": "a085853f",
   "metadata": {},
   "outputs": [
    {
     "data": {
      "text/html": [
       "<div>\n",
       "<style scoped>\n",
       "    .dataframe tbody tr th:only-of-type {\n",
       "        vertical-align: middle;\n",
       "    }\n",
       "\n",
       "    .dataframe tbody tr th {\n",
       "        vertical-align: top;\n",
       "    }\n",
       "\n",
       "    .dataframe thead th {\n",
       "        text-align: right;\n",
       "    }\n",
       "</style>\n",
       "<table border=\"1\" class=\"dataframe\">\n",
       "  <thead>\n",
       "    <tr style=\"text-align: right;\">\n",
       "      <th></th>\n",
       "      <th>transaction_id</th>\n",
       "      <th>client_id</th>\n",
       "      <th>date</th>\n",
       "      <th>amount</th>\n",
       "      <th>mcc_description</th>\n",
       "      <th>is_fraud</th>\n",
       "    </tr>\n",
       "  </thead>\n",
       "  <tbody>\n",
       "    <tr>\n",
       "      <th>1795</th>\n",
       "      <td>7477483</td>\n",
       "      <td>0</td>\n",
       "      <td>2010-01-01 13:10:00</td>\n",
       "      <td>$33.96</td>\n",
       "      <td>Book Stores</td>\n",
       "      <td>No</td>\n",
       "    </tr>\n",
       "    <tr>\n",
       "      <th>2960</th>\n",
       "      <td>7478861</td>\n",
       "      <td>0</td>\n",
       "      <td>2010-01-01 19:39:00</td>\n",
       "      <td>$7.78</td>\n",
       "      <td>Eating Places and Restaurants</td>\n",
       "      <td>No</td>\n",
       "    </tr>\n",
       "    <tr>\n",
       "      <th>3299</th>\n",
       "      <td>7479264</td>\n",
       "      <td>0</td>\n",
       "      <td>2010-01-01 22:13:00</td>\n",
       "      <td>$65.86</td>\n",
       "      <td>Drinking Places (Alcoholic Beverages)</td>\n",
       "      <td>No</td>\n",
       "    </tr>\n",
       "    <tr>\n",
       "      <th>4955</th>\n",
       "      <td>7481226</td>\n",
       "      <td>0</td>\n",
       "      <td>2010-01-02 13:08:00</td>\n",
       "      <td>$55.85</td>\n",
       "      <td>Lumber and Building Materials</td>\n",
       "      <td>NaN</td>\n",
       "    </tr>\n",
       "    <tr>\n",
       "      <th>8801</th>\n",
       "      <td>7485861</td>\n",
       "      <td>0</td>\n",
       "      <td>2010-01-03 15:44:00</td>\n",
       "      <td>$1.37</td>\n",
       "      <td>Miscellaneous Food Stores</td>\n",
       "      <td>No</td>\n",
       "    </tr>\n",
       "  </tbody>\n",
       "</table>\n",
       "</div>"
      ],
      "text/plain": [
       "     transaction_id  client_id                date  amount  \\\n",
       "1795        7477483          0 2010-01-01 13:10:00  $33.96   \n",
       "2960        7478861          0 2010-01-01 19:39:00   $7.78   \n",
       "3299        7479264          0 2010-01-01 22:13:00  $65.86   \n",
       "4955        7481226          0 2010-01-02 13:08:00  $55.85   \n",
       "8801        7485861          0 2010-01-03 15:44:00   $1.37   \n",
       "\n",
       "                            mcc_description is_fraud  \n",
       "1795                            Book Stores       No  \n",
       "2960          Eating Places and Restaurants       No  \n",
       "3299  Drinking Places (Alcoholic Beverages)       No  \n",
       "4955          Lumber and Building Materials      NaN  \n",
       "8801              Miscellaneous Food Stores       No  "
      ]
     },
     "execution_count": 17,
     "metadata": {},
     "output_type": "execute_result"
    }
   ],
   "source": [
    "# Sort by client_id + date\n",
    "seq_df = seq_df.sort_values(by=[\"client_id\", \"date\"])\n",
    "seq_df.head()"
   ]
  },
  {
   "cell_type": "code",
   "execution_count": 20,
   "id": "2e57982a",
   "metadata": {},
   "outputs": [],
   "source": [
    "# For each client, build a list of tuples (description, amount, is_fraud)\n",
    "def build_sequence(client_df):\n",
    "    seq = list(zip(client_df[\"mcc_description\"], client_df[\"amount\"], client_df[\"is_fraud\"]))\n",
    "    return seq"
   ]
  },
  {
   "cell_type": "code",
   "execution_count": 21,
   "id": "a42ef60e",
   "metadata": {},
   "outputs": [
    {
     "name": "stderr",
     "output_type": "stream",
     "text": [
      "/tmp/ipykernel_73378/4113342865.py:5: FutureWarning: DataFrameGroupBy.apply operated on the grouping columns. This behavior is deprecated, and in a future version of pandas the grouping columns will be excluded from the operation. Either pass `include_groups=False` to exclude the groupings or explicitly select the grouping columns after groupby to silence this warning.\n",
      "  client_sequences = grouped_txns.apply(build_sequence)\n"
     ]
    }
   ],
   "source": [
    "# Group transactions by client_id\n",
    "grouped_txns = seq_df.groupby(\"client_id\")\n",
    "\n",
    "# Get sequences for each group\n",
    "client_sequences = grouped_txns.apply(build_sequence)"
   ]
  },
  {
   "cell_type": "code",
   "execution_count": 24,
   "id": "87cdfc31",
   "metadata": {},
   "outputs": [
    {
     "data": {
      "text/plain": [
       "client_id\n",
       "0    [(Book Stores, $33.96, No), (Eating Places and...\n",
       "1    [(Taxicabs and Limousines, $15.09, No), (Drink...\n",
       "2    [(Wholesale Clubs, $0.72, No), (Drug Stores an...\n",
       "3    [(Grocery Stores, Supermarkets, $15.64, No), (...\n",
       "4    [(Betting (including Lottery Tickets, Casinos)...\n",
       "dtype: object"
      ]
     },
     "execution_count": 24,
     "metadata": {},
     "output_type": "execute_result"
    }
   ],
   "source": [
    "# Check a few examples\n",
    "client_sequences.head()"
   ]
  },
  {
   "cell_type": "code",
   "execution_count": null,
   "id": "e0743636",
   "metadata": {},
   "outputs": [],
   "source": []
  }
 ],
 "metadata": {
  "kernelspec": {
   "display_name": "Python 3.12 (udes_sd_a25)",
   "language": "python",
   "name": "udes_sd_a25"
  },
  "language_info": {
   "codemirror_mode": {
    "name": "ipython",
    "version": 3
   },
   "file_extension": ".py",
   "mimetype": "text/x-python",
   "name": "python",
   "nbconvert_exporter": "python",
   "pygments_lexer": "ipython3",
   "version": "3.12.11"
  }
 },
 "nbformat": 4,
 "nbformat_minor": 5
}
