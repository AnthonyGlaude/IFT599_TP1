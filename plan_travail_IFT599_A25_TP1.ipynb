{
 "cells": [
  {
   "cell_type": "markdown",
   "id": "0ea99dab",
   "metadata": {},
   "source": []
  },
  {
   "cell_type": "markdown",
   "id": "12208a01",
   "metadata": {},
   "source": [
    "# TP1 – Analyse des données (IFT599 / IFT799)\n",
    "\n",
    "**Auteurs :**  \n",
    "-  \n",
    "-  \n",
    "-  3\n",
    "\n",
    "**Date de remise :** 03 octobre 2025  \n"
   ]
  },
  {
   "cell_type": "code",
   "execution_count": 1,
   "id": "01a70c33",
   "metadata": {},
   "outputs": [],
   "source": [
    "# Import necessary libraries\n",
    "import pandas as pd\n",
    "import numpy as np\n",
    "import matplotlib.pyplot as plt\n",
    "import seaborn as sns\n",
    "import json"
   ]
  },
  {
   "cell_type": "markdown",
   "id": "68f4cc3b",
   "metadata": {},
   "source": [
    "## Charger tous les jeux de données"
   ]
  },
  {
   "cell_type": "code",
   "execution_count": 3,
   "id": "31d77013",
   "metadata": {},
   "outputs": [],
   "source": [
    "# Load transaction data\n",
    "transactions = pd.read_csv(\"data/transactions_data.csv\")\n",
    "\n",
    "# Load card information\n",
    "cards = pd.read_csv(\"data/cards_data.csv\")\n",
    "\n",
    "# Load user information\n",
    "users = pd.read_csv(\"data/users_data.csv\")\n",
    "\n",
    "# Load mcc codes information\n",
    "with open(\"data/mcc_codes.json\", \"r\") as f:\n",
    "    mcc_data = json.load(f)\n",
    "\n",
    "mcc_codes = pd.DataFrame(list(mcc_data.items()), columns=[\"code\", \"description\"])\n",
    "\n",
    "# Load fraud information\n",
    "with open(\"data/train_fraud_labels.json\", \"r\") as f:\n",
    "    fraud_data = json.load(f)\n",
    "\n",
    "# Extract the inner dictionary\n",
    "fraud_dict = fraud_data['target']\n",
    "\n",
    "# Convert to DataFrame\n",
    "fraud_labels = pd.DataFrame(list(fraud_dict.items()), columns=[\"transaction_id\", \"is_fraud\"])"
   ]
  },
  {
   "cell_type": "markdown",
   "id": "0c88137f",
   "metadata": {},
   "source": [
    "# 3.1 Préparation des données (25%)\n",
    "\n",
    "## 1. Fusion des différents fichiers (`transactions`, `cards`, `users`, `mcc`, `fraud`)  \n",
    "  - Clés de jointure utilisées  \n",
    "  - Vérifier lees colonnes dupliquées et suffixes `_x`, `_y`  (causés par pandas)\n",
    "  - Expliquer les choix "
   ]
  },
  {
   "cell_type": "code",
   "execution_count": 4,
   "id": "222fa47e",
   "metadata": {},
   "outputs": [],
   "source": [
    "# Rename keys before merging\n",
    "transactions = transactions.rename(columns={\"id\": \"transaction_id\"})\n",
    "cards = cards.rename(columns={\"id\": \"card_id\"})\n",
    "users = users.rename(columns={\"id\": \"user_id\"})\n",
    "mcc_codes = mcc_codes.rename(columns={\"code\": \"mcc_code\", \"description\": \"mcc_description\"})"
   ]
  },
  {
   "cell_type": "code",
   "execution_count": 5,
   "id": "01d5a6dd",
   "metadata": {},
   "outputs": [],
   "source": [
    "# Ensure same dtype for transaction_id\n",
    "transactions[\"transaction_id\"] = transactions[\"transaction_id\"].astype(str)\n",
    "fraud_labels[\"transaction_id\"] = fraud_labels[\"transaction_id\"].astype(str)\n",
    "\n",
    "# Ensure same dtype for mcc\n",
    "transactions[\"mcc\"] = transactions[\"mcc\"].astype(str)\n",
    "mcc_codes[\"mcc_code\"] = mcc_codes[\"mcc_code\"].astype(str)"
   ]
  },
  {
   "cell_type": "code",
   "execution_count": 6,
   "id": "68636bd8",
   "metadata": {},
   "outputs": [
    {
     "data": {
      "text/html": [
       "<div>\n",
       "<style scoped>\n",
       "    .dataframe tbody tr th:only-of-type {\n",
       "        vertical-align: middle;\n",
       "    }\n",
       "\n",
       "    .dataframe tbody tr th {\n",
       "        vertical-align: top;\n",
       "    }\n",
       "\n",
       "    .dataframe thead th {\n",
       "        text-align: right;\n",
       "    }\n",
       "</style>\n",
       "<table border=\"1\" class=\"dataframe\">\n",
       "  <thead>\n",
       "    <tr style=\"text-align: right;\">\n",
       "      <th></th>\n",
       "      <th>transaction_id</th>\n",
       "      <th>date</th>\n",
       "      <th>client_id</th>\n",
       "      <th>card_id</th>\n",
       "      <th>amount</th>\n",
       "      <th>use_chip</th>\n",
       "      <th>merchant_id</th>\n",
       "      <th>merchant_city</th>\n",
       "      <th>merchant_state</th>\n",
       "      <th>zip</th>\n",
       "      <th>...</th>\n",
       "      <th>latitude</th>\n",
       "      <th>longitude</th>\n",
       "      <th>per_capita_income</th>\n",
       "      <th>yearly_income</th>\n",
       "      <th>total_debt</th>\n",
       "      <th>credit_score</th>\n",
       "      <th>num_credit_cards</th>\n",
       "      <th>mcc_code</th>\n",
       "      <th>mcc_description</th>\n",
       "      <th>is_fraud</th>\n",
       "    </tr>\n",
       "  </thead>\n",
       "  <tbody>\n",
       "    <tr>\n",
       "      <th>0</th>\n",
       "      <td>7475327</td>\n",
       "      <td>2010-01-01 00:01:00</td>\n",
       "      <td>1556</td>\n",
       "      <td>2972</td>\n",
       "      <td>$-77.00</td>\n",
       "      <td>Swipe Transaction</td>\n",
       "      <td>59935</td>\n",
       "      <td>Beulah</td>\n",
       "      <td>ND</td>\n",
       "      <td>58523.0</td>\n",
       "      <td>...</td>\n",
       "      <td>46.80</td>\n",
       "      <td>-100.76</td>\n",
       "      <td>$23679</td>\n",
       "      <td>$48277</td>\n",
       "      <td>$110153</td>\n",
       "      <td>740</td>\n",
       "      <td>4</td>\n",
       "      <td>5499</td>\n",
       "      <td>Miscellaneous Food Stores</td>\n",
       "      <td>No</td>\n",
       "    </tr>\n",
       "    <tr>\n",
       "      <th>1</th>\n",
       "      <td>7475328</td>\n",
       "      <td>2010-01-01 00:02:00</td>\n",
       "      <td>561</td>\n",
       "      <td>4575</td>\n",
       "      <td>$14.57</td>\n",
       "      <td>Swipe Transaction</td>\n",
       "      <td>67570</td>\n",
       "      <td>Bettendorf</td>\n",
       "      <td>IA</td>\n",
       "      <td>52722.0</td>\n",
       "      <td>...</td>\n",
       "      <td>40.80</td>\n",
       "      <td>-91.12</td>\n",
       "      <td>$18076</td>\n",
       "      <td>$36853</td>\n",
       "      <td>$112139</td>\n",
       "      <td>834</td>\n",
       "      <td>5</td>\n",
       "      <td>5311</td>\n",
       "      <td>Department Stores</td>\n",
       "      <td>No</td>\n",
       "    </tr>\n",
       "    <tr>\n",
       "      <th>2</th>\n",
       "      <td>7475329</td>\n",
       "      <td>2010-01-01 00:02:00</td>\n",
       "      <td>1129</td>\n",
       "      <td>102</td>\n",
       "      <td>$80.00</td>\n",
       "      <td>Swipe Transaction</td>\n",
       "      <td>27092</td>\n",
       "      <td>Vista</td>\n",
       "      <td>CA</td>\n",
       "      <td>92084.0</td>\n",
       "      <td>...</td>\n",
       "      <td>33.18</td>\n",
       "      <td>-117.29</td>\n",
       "      <td>$16894</td>\n",
       "      <td>$34449</td>\n",
       "      <td>$36540</td>\n",
       "      <td>686</td>\n",
       "      <td>3</td>\n",
       "      <td>4829</td>\n",
       "      <td>Money Transfer</td>\n",
       "      <td>No</td>\n",
       "    </tr>\n",
       "    <tr>\n",
       "      <th>3</th>\n",
       "      <td>7475331</td>\n",
       "      <td>2010-01-01 00:05:00</td>\n",
       "      <td>430</td>\n",
       "      <td>2860</td>\n",
       "      <td>$200.00</td>\n",
       "      <td>Swipe Transaction</td>\n",
       "      <td>27092</td>\n",
       "      <td>Crown Point</td>\n",
       "      <td>IN</td>\n",
       "      <td>46307.0</td>\n",
       "      <td>...</td>\n",
       "      <td>41.42</td>\n",
       "      <td>-87.35</td>\n",
       "      <td>$26168</td>\n",
       "      <td>$53350</td>\n",
       "      <td>$128676</td>\n",
       "      <td>685</td>\n",
       "      <td>5</td>\n",
       "      <td>4829</td>\n",
       "      <td>Money Transfer</td>\n",
       "      <td>NaN</td>\n",
       "    </tr>\n",
       "    <tr>\n",
       "      <th>4</th>\n",
       "      <td>7475332</td>\n",
       "      <td>2010-01-01 00:06:00</td>\n",
       "      <td>848</td>\n",
       "      <td>3915</td>\n",
       "      <td>$46.41</td>\n",
       "      <td>Swipe Transaction</td>\n",
       "      <td>13051</td>\n",
       "      <td>Harwood</td>\n",
       "      <td>MD</td>\n",
       "      <td>20776.0</td>\n",
       "      <td>...</td>\n",
       "      <td>38.86</td>\n",
       "      <td>-76.60</td>\n",
       "      <td>$33529</td>\n",
       "      <td>$68362</td>\n",
       "      <td>$96182</td>\n",
       "      <td>711</td>\n",
       "      <td>2</td>\n",
       "      <td>5813</td>\n",
       "      <td>Drinking Places (Alcoholic Beverages)</td>\n",
       "      <td>No</td>\n",
       "    </tr>\n",
       "  </tbody>\n",
       "</table>\n",
       "<p>5 rows × 41 columns</p>\n",
       "</div>"
      ],
      "text/plain": [
       "  transaction_id                 date  client_id  card_id   amount  \\\n",
       "0        7475327  2010-01-01 00:01:00       1556     2972  $-77.00   \n",
       "1        7475328  2010-01-01 00:02:00        561     4575   $14.57   \n",
       "2        7475329  2010-01-01 00:02:00       1129      102   $80.00   \n",
       "3        7475331  2010-01-01 00:05:00        430     2860  $200.00   \n",
       "4        7475332  2010-01-01 00:06:00        848     3915   $46.41   \n",
       "\n",
       "            use_chip  merchant_id merchant_city merchant_state      zip  ...  \\\n",
       "0  Swipe Transaction        59935        Beulah             ND  58523.0  ...   \n",
       "1  Swipe Transaction        67570    Bettendorf             IA  52722.0  ...   \n",
       "2  Swipe Transaction        27092         Vista             CA  92084.0  ...   \n",
       "3  Swipe Transaction        27092   Crown Point             IN  46307.0  ...   \n",
       "4  Swipe Transaction        13051       Harwood             MD  20776.0  ...   \n",
       "\n",
       "  latitude longitude  per_capita_income yearly_income total_debt  \\\n",
       "0    46.80   -100.76             $23679        $48277    $110153   \n",
       "1    40.80    -91.12             $18076        $36853    $112139   \n",
       "2    33.18   -117.29             $16894        $34449     $36540   \n",
       "3    41.42    -87.35             $26168        $53350    $128676   \n",
       "4    38.86    -76.60             $33529        $68362     $96182   \n",
       "\n",
       "   credit_score num_credit_cards  mcc_code  \\\n",
       "0           740                4      5499   \n",
       "1           834                5      5311   \n",
       "2           686                3      4829   \n",
       "3           685                5      4829   \n",
       "4           711                2      5813   \n",
       "\n",
       "                         mcc_description  is_fraud  \n",
       "0              Miscellaneous Food Stores        No  \n",
       "1                      Department Stores        No  \n",
       "2                         Money Transfer        No  \n",
       "3                         Money Transfer       NaN  \n",
       "4  Drinking Places (Alcoholic Beverages)        No  \n",
       "\n",
       "[5 rows x 41 columns]"
      ]
     },
     "execution_count": 6,
     "metadata": {},
     "output_type": "execute_result"
    }
   ],
   "source": [
    "merged_df = (\n",
    "    transactions\n",
    "    .merge(cards, on=\"card_id\", how=\"left\", suffixes=(\"\", \"_card\"))\n",
    "    .merge(users, left_on=\"client_id\", right_on=\"user_id\", how=\"left\", suffixes=(\"\", \"_user\"))\n",
    "    .merge(mcc_codes, left_on=\"mcc\", right_on=\"mcc_code\", how=\"left\")\n",
    "    .merge(fraud_labels, on=\"transaction_id\", how=\"left\")\n",
    ")\n",
    "\n",
    "merged_df.head()"
   ]
  },
  {
   "cell_type": "markdown",
   "id": "d43813e0",
   "metadata": {},
   "source": [
    "## 2. Identification des variables peu pertinentes  \n",
    "  - Liste des variables exclues  \n",
    "  - Justifications (faible variance, redondance, trop de valeurs manquantes, etc.)(liste dans le pdf)  \n",
    "  - Visualisations ou statistiques descriptives à l’appui  (généralement boxplot)"
   ]
  },
  {
   "cell_type": "code",
   "execution_count": 7,
   "id": "099e65c6",
   "metadata": {},
   "outputs": [
    {
     "name": "stdout",
     "output_type": "stream",
     "text": [
      "num_cards_issued         2.654476e-01\n",
      "num_credit_cards         2.458112e+00\n",
      "year_pin_last_changed    8.379903e+00\n",
      "retirement_age           1.286465e+01\n",
      "birth_month              1.299606e+01\n",
      "latitude                 2.592665e+01\n",
      "birth_year               2.470101e+02\n",
      "current_age              2.473543e+02\n",
      "longitude                2.644312e+02\n",
      "credit_score             4.329996e+03\n",
      "cvv                      8.327915e+04\n",
      "client_id                3.383034e+05\n",
      "client_id_card           3.383034e+05\n",
      "user_id                  3.383034e+05\n",
      "card_id                  2.803468e+06\n",
      "merchant_id              6.664317e+08\n",
      "zip                      8.646085e+08\n",
      "card_number              1.720131e+30\n",
      "dtype: float64\n",
      "transaction_id 13305915\n",
      "date 4136496\n",
      "amount 81161\n",
      "use_chip 3\n",
      "merchant_city 12492\n",
      "merchant_state 199\n",
      "mcc 109\n",
      "errors 22\n",
      "card_brand 4\n",
      "card_type 3\n",
      "expires 180\n",
      "has_chip 2\n",
      "credit_limit 2603\n",
      "acct_open_date 295\n",
      "card_on_dark_web 1\n",
      "gender 2\n",
      "address 1219\n",
      "per_capita_income 1120\n",
      "yearly_income 1201\n",
      "total_debt 1150\n",
      "mcc_code 109\n",
      "mcc_description 108\n",
      "is_fraud 2\n"
     ]
    }
   ],
   "source": [
    "# Check variance for numeric features\n",
    "low_variance = merged_df.var(numeric_only=True).sort_values()\n",
    "print(low_variance)\n",
    "\n",
    "# Look at categorical features' unique values\n",
    "for col in merged_df.select_dtypes(include=['object']).columns:\n",
    "    print(col, merged_df[col].nunique())"
   ]
  },
  {
   "cell_type": "markdown",
   "id": "d7665176",
   "metadata": {},
   "source": [
    "**Candidate variables to drop based on low variance / redundancy:**\n",
    "\n",
    "Drop:\n",
    "- IDs / unique identifiers:   transaction_id, client_id, card_id, user_id, client_id_card, card_number, merchant_id, zip\n",
    "- No behavioral meaning:   cvv\n",
    "\n",
    "Consider dropping:\n",
    "- Redundant: One of (birth_year, current_age)\n",
    "- Not directly linked to transaction patterns: retirement_age\n",
    "- latitude/longitude"
   ]
  },
  {
   "cell_type": "code",
   "execution_count": 8,
   "id": "f36cef58",
   "metadata": {},
   "outputs": [
    {
     "data": {
      "image/png": "[encoded data removed]",
      "text/plain": [
       "<Figure size 1200x800 with 2 Axes>"
      ]
     },
     "metadata": {},
     "output_type": "display_data"
    }
   ],
   "source": [
    "import seaborn as sns\n",
    "import matplotlib.pyplot as plt\n",
    "\n",
    "# Compute correlation matrix\n",
    "corr_matrix = merged_df.corr(numeric_only=True)\n",
    "\n",
    "# Plot a heatmap\n",
    "plt.figure(figsize=(12,8))\n",
    "sns.heatmap(corr_matrix, annot=False, cmap=\"coolwarm\", center=0)\n",
    "plt.show()"
   ]
  },
  {
   "cell_type": "markdown",
   "id": "f781f648",
   "metadata": {},
   "source": [
    "**Correlation**\n",
    "\n",
    "Drop:\n",
    "- Duplicates of each other: client_id, client_id_card, user_id\n",
    "- Either birth_year or current_age\n",
    "- Pick one representation for location: either zip or (latitude + longitude)"
   ]
  },
  {
   "cell_type": "markdown",
   "id": "60177182",
   "metadata": {},
   "source": [
    "**Missing values**\n",
    "\n",
    "Drop:\n",
    "- errors (98% missing, unusable)"
   ]
  },
  {
   "cell_type": "markdown",
   "id": "196361b2",
   "metadata": {},
   "source": [
    "## 3. Nettoyage des données\n",
    "  \n",
    "**Valeurs manquantes**  \n",
    "  - Doublons  \n",
    "  - Types de données  \n",
    "  - Incohérences  "
   ]
  },
  {
   "cell_type": "code",
   "execution_count": 9,
   "id": "61b83398",
   "metadata": {},
   "outputs": [
    {
     "name": "stdout",
     "output_type": "stream",
     "text": [
      "errors                   0.984113\n",
      "is_fraud                 0.330000\n",
      "zip                      0.124208\n",
      "merchant_state           0.117519\n",
      "transaction_id           0.000000\n",
      "amount                   0.000000\n",
      "date                     0.000000\n",
      "card_id                  0.000000\n",
      "client_id                0.000000\n",
      "merchant_city            0.000000\n",
      "merchant_id              0.000000\n",
      "use_chip                 0.000000\n",
      "mcc                      0.000000\n",
      "card_brand               0.000000\n",
      "card_type                0.000000\n",
      "card_number              0.000000\n",
      "client_id_card           0.000000\n",
      "cvv                      0.000000\n",
      "has_chip                 0.000000\n",
      "num_cards_issued         0.000000\n",
      "credit_limit             0.000000\n",
      "acct_open_date           0.000000\n",
      "year_pin_last_changed    0.000000\n",
      "card_on_dark_web         0.000000\n",
      "expires                  0.000000\n",
      "user_id                  0.000000\n",
      "current_age              0.000000\n",
      "birth_year               0.000000\n",
      "retirement_age           0.000000\n",
      "gender                   0.000000\n",
      "address                  0.000000\n",
      "latitude                 0.000000\n",
      "birth_month              0.000000\n",
      "longitude                0.000000\n",
      "per_capita_income        0.000000\n",
      "total_debt               0.000000\n",
      "yearly_income            0.000000\n",
      "credit_score             0.000000\n",
      "num_credit_cards         0.000000\n",
      "mcc_code                 0.000000\n",
      "mcc_description          0.000000\n",
      "dtype: float64\n"
     ]
    },
    {
     "data": {
      "image/png": "[encoded data removed]",
      "text/plain": [
       "<Figure size 1200x500 with 1 Axes>"
      ]
     },
     "metadata": {},
     "output_type": "display_data"
    }
   ],
   "source": [
    "# Check missing values\n",
    "missing = merged_df.isnull().mean().sort_values(ascending=False)\n",
    "print(missing)\n",
    "\n",
    "# Visualize\n",
    "missing.plot(kind=\"bar\", figsize=(12,5), title=\"Proportion of missing values per column\")\n",
    "plt.show()"
   ]
  },
  {
   "cell_type": "markdown",
   "id": "d43d947c",
   "metadata": {},
   "source": [
    "**Doublons**"
   ]
  },
  {
   "cell_type": "code",
   "execution_count": 11,
   "id": "095c56b8",
   "metadata": {},
   "outputs": [
    {
     "name": "stdout",
     "output_type": "stream",
     "text": [
      "Number of completely duplicated rows: 0\n"
     ]
    }
   ],
   "source": [
    "# Count fully duplicated rows\n",
    "dup_rows = merged_df.duplicated().sum()\n",
    "print(f\"Number of completely duplicated rows: {dup_rows}\")\n",
    "\n",
    "# If you find any, drop them\n",
    "merged_df = merged_df.drop_duplicates()"
   ]
  },
  {
   "cell_type": "code",
   "execution_count": 12,
   "id": "cc43f983",
   "metadata": {},
   "outputs": [
    {
     "name": "stdout",
     "output_type": "stream",
     "text": [
      "Number of duplicated transaction_id: 0\n"
     ]
    }
   ],
   "source": [
    "# Check if any transaction_id is duplicated\n",
    "dup_trans = merged_df[\"transaction_id\"].duplicated().sum()\n",
    "print(f\"Number of duplicated transaction_id: {dup_trans}\")\n",
    "\n",
    "# If you find any, keep only the first occurrence\n",
    "merged_df = merged_df.drop_duplicates(subset=[\"transaction_id\"], keep=\"first\")"
   ]
  },
  {
   "cell_type": "code",
   "execution_count": 13,
   "id": "ce136ca5",
   "metadata": {},
   "outputs": [
    {
     "name": "stdout",
     "output_type": "stream",
     "text": [
      "card_id\n",
      "0    3402\n",
      "1    2841\n",
      "2    8028\n",
      "3    2870\n",
      "4     890\n",
      "Name: transaction_id, dtype: int64\n",
      "client_id\n",
      "0    12795\n",
      "1    10073\n",
      "2    10612\n",
      "3     6001\n",
      "4    15043\n",
      "Name: transaction_id, dtype: int64\n"
     ]
    }
   ],
   "source": [
    "# How many unique transactions per card_id / client_id?\n",
    "print(merged_df.groupby(\"card_id\")[\"transaction_id\"].nunique().head())\n",
    "print(merged_df.groupby(\"client_id\")[\"transaction_id\"].nunique().head())"
   ]
  },
  {
   "cell_type": "markdown",
   "id": "21d0bb92",
   "metadata": {},
   "source": [
    "**Types de données**\n",
    "- Transaction amounts: Remove `$`, convert to float, then check stats."
   ]
  },
  {
   "cell_type": "code",
   "execution_count": 19,
   "id": "7a20c66b",
   "metadata": {},
   "outputs": [
    {
     "name": "stderr",
     "output_type": "stream",
     "text": [
      "<>:6: SyntaxWarning: invalid escape sequence '\\$'\n",
      "<>:6: SyntaxWarning: invalid escape sequence '\\$'\n",
      "/tmp/ipykernel_484502/1381650976.py:6: SyntaxWarning: invalid escape sequence '\\$'\n",
      "  merged_df[col] = (merged_df[col].replace('[\\$,]', '', regex=True).astype(float))\n"
     ]
    }
   ],
   "source": [
    "# List of columns that contain dollar amounts\n",
    "money_cols = [\"amount\", \"per_capita_income\", \"yearly_income\", \"total_debt\"]\n",
    "\n",
    "# Remove $ and commas, convert to float\n",
    "for col in money_cols:\n",
    "    merged_df[col] = (merged_df[col].replace('[\\$,]', '', regex=True).astype(float))\n"
   ]
  },
  {
   "cell_type": "code",
   "execution_count": 20,
   "id": "d1917402",
   "metadata": {},
   "outputs": [
    {
     "data": {
      "text/html": [
       "<div>\n",
       "<style scoped>\n",
       "    .dataframe tbody tr th:only-of-type {\n",
       "        vertical-align: middle;\n",
       "    }\n",
       "\n",
       "    .dataframe tbody tr th {\n",
       "        vertical-align: top;\n",
       "    }\n",
       "\n",
       "    .dataframe thead th {\n",
       "        text-align: right;\n",
       "    }\n",
       "</style>\n",
       "<table border=\"1\" class=\"dataframe\">\n",
       "  <thead>\n",
       "    <tr style=\"text-align: right;\">\n",
       "      <th></th>\n",
       "      <th>transaction_id</th>\n",
       "      <th>date</th>\n",
       "      <th>client_id</th>\n",
       "      <th>card_id</th>\n",
       "      <th>amount</th>\n",
       "      <th>use_chip</th>\n",
       "      <th>merchant_id</th>\n",
       "      <th>merchant_city</th>\n",
       "      <th>merchant_state</th>\n",
       "      <th>zip</th>\n",
       "      <th>...</th>\n",
       "      <th>latitude</th>\n",
       "      <th>longitude</th>\n",
       "      <th>per_capita_income</th>\n",
       "      <th>yearly_income</th>\n",
       "      <th>total_debt</th>\n",
       "      <th>credit_score</th>\n",
       "      <th>num_credit_cards</th>\n",
       "      <th>mcc_code</th>\n",
       "      <th>mcc_description</th>\n",
       "      <th>is_fraud</th>\n",
       "    </tr>\n",
       "  </thead>\n",
       "  <tbody>\n",
       "    <tr>\n",
       "      <th>0</th>\n",
       "      <td>7475327</td>\n",
       "      <td>2010-01-01 00:01:00</td>\n",
       "      <td>1556</td>\n",
       "      <td>2972</td>\n",
       "      <td>-77.00</td>\n",
       "      <td>Swipe Transaction</td>\n",
       "      <td>59935</td>\n",
       "      <td>Beulah</td>\n",
       "      <td>ND</td>\n",
       "      <td>58523.0</td>\n",
       "      <td>...</td>\n",
       "      <td>46.80</td>\n",
       "      <td>-100.76</td>\n",
       "      <td>23679.0</td>\n",
       "      <td>48277.0</td>\n",
       "      <td>110153.0</td>\n",
       "      <td>740</td>\n",
       "      <td>4</td>\n",
       "      <td>5499</td>\n",
       "      <td>Miscellaneous Food Stores</td>\n",
       "      <td>No</td>\n",
       "    </tr>\n",
       "    <tr>\n",
       "      <th>1</th>\n",
       "      <td>7475328</td>\n",
       "      <td>2010-01-01 00:02:00</td>\n",
       "      <td>561</td>\n",
       "      <td>4575</td>\n",
       "      <td>14.57</td>\n",
       "      <td>Swipe Transaction</td>\n",
       "      <td>67570</td>\n",
       "      <td>Bettendorf</td>\n",
       "      <td>IA</td>\n",
       "      <td>52722.0</td>\n",
       "      <td>...</td>\n",
       "      <td>40.80</td>\n",
       "      <td>-91.12</td>\n",
       "      <td>18076.0</td>\n",
       "      <td>36853.0</td>\n",
       "      <td>112139.0</td>\n",
       "      <td>834</td>\n",
       "      <td>5</td>\n",
       "      <td>5311</td>\n",
       "      <td>Department Stores</td>\n",
       "      <td>No</td>\n",
       "    </tr>\n",
       "    <tr>\n",
       "      <th>2</th>\n",
       "      <td>7475329</td>\n",
       "      <td>2010-01-01 00:02:00</td>\n",
       "      <td>1129</td>\n",
       "      <td>102</td>\n",
       "      <td>80.00</td>\n",
       "      <td>Swipe Transaction</td>\n",
       "      <td>27092</td>\n",
       "      <td>Vista</td>\n",
       "      <td>CA</td>\n",
       "      <td>92084.0</td>\n",
       "      <td>...</td>\n",
       "      <td>33.18</td>\n",
       "      <td>-117.29</td>\n",
       "      <td>16894.0</td>\n",
       "      <td>34449.0</td>\n",
       "      <td>36540.0</td>\n",
       "      <td>686</td>\n",
       "      <td>3</td>\n",
       "      <td>4829</td>\n",
       "      <td>Money Transfer</td>\n",
       "      <td>No</td>\n",
       "    </tr>\n",
       "    <tr>\n",
       "      <th>3</th>\n",
       "      <td>7475331</td>\n",
       "      <td>2010-01-01 00:05:00</td>\n",
       "      <td>430</td>\n",
       "      <td>2860</td>\n",
       "      <td>200.00</td>\n",
       "      <td>Swipe Transaction</td>\n",
       "      <td>27092</td>\n",
       "      <td>Crown Point</td>\n",
       "      <td>IN</td>\n",
       "      <td>46307.0</td>\n",
       "      <td>...</td>\n",
       "      <td>41.42</td>\n",
       "      <td>-87.35</td>\n",
       "      <td>26168.0</td>\n",
       "      <td>53350.0</td>\n",
       "      <td>128676.0</td>\n",
       "      <td>685</td>\n",
       "      <td>5</td>\n",
       "      <td>4829</td>\n",
       "      <td>Money Transfer</td>\n",
       "      <td>NaN</td>\n",
       "    </tr>\n",
       "    <tr>\n",
       "      <th>4</th>\n",
       "      <td>7475332</td>\n",
       "      <td>2010-01-01 00:06:00</td>\n",
       "      <td>848</td>\n",
       "      <td>3915</td>\n",
       "      <td>46.41</td>\n",
       "      <td>Swipe Transaction</td>\n",
       "      <td>13051</td>\n",
       "      <td>Harwood</td>\n",
       "      <td>MD</td>\n",
       "      <td>20776.0</td>\n",
       "      <td>...</td>\n",
       "      <td>38.86</td>\n",
       "      <td>-76.60</td>\n",
       "      <td>33529.0</td>\n",
       "      <td>68362.0</td>\n",
       "      <td>96182.0</td>\n",
       "      <td>711</td>\n",
       "      <td>2</td>\n",
       "      <td>5813</td>\n",
       "      <td>Drinking Places (Alcoholic Beverages)</td>\n",
       "      <td>No</td>\n",
       "    </tr>\n",
       "  </tbody>\n",
       "</table>\n",
       "<p>5 rows × 41 columns</p>\n",
       "</div>"
      ],
      "text/plain": [
       "  transaction_id                date  client_id  card_id  amount  \\\n",
       "0        7475327 2010-01-01 00:01:00       1556     2972  -77.00   \n",
       "1        7475328 2010-01-01 00:02:00        561     4575   14.57   \n",
       "2        7475329 2010-01-01 00:02:00       1129      102   80.00   \n",
       "3        7475331 2010-01-01 00:05:00        430     2860  200.00   \n",
       "4        7475332 2010-01-01 00:06:00        848     3915   46.41   \n",
       "\n",
       "            use_chip  merchant_id merchant_city merchant_state      zip  ...  \\\n",
       "0  Swipe Transaction        59935        Beulah             ND  58523.0  ...   \n",
       "1  Swipe Transaction        67570    Bettendorf             IA  52722.0  ...   \n",
       "2  Swipe Transaction        27092         Vista             CA  92084.0  ...   \n",
       "3  Swipe Transaction        27092   Crown Point             IN  46307.0  ...   \n",
       "4  Swipe Transaction        13051       Harwood             MD  20776.0  ...   \n",
       "\n",
       "  latitude longitude  per_capita_income yearly_income total_debt  \\\n",
       "0    46.80   -100.76            23679.0       48277.0   110153.0   \n",
       "1    40.80    -91.12            18076.0       36853.0   112139.0   \n",
       "2    33.18   -117.29            16894.0       34449.0    36540.0   \n",
       "3    41.42    -87.35            26168.0       53350.0   128676.0   \n",
       "4    38.86    -76.60            33529.0       68362.0    96182.0   \n",
       "\n",
       "   credit_score num_credit_cards  mcc_code  \\\n",
       "0           740                4      5499   \n",
       "1           834                5      5311   \n",
       "2           686                3      4829   \n",
       "3           685                5      4829   \n",
       "4           711                2      5813   \n",
       "\n",
       "                         mcc_description  is_fraud  \n",
       "0              Miscellaneous Food Stores        No  \n",
       "1                      Department Stores        No  \n",
       "2                         Money Transfer        No  \n",
       "3                         Money Transfer       NaN  \n",
       "4  Drinking Places (Alcoholic Beverages)        No  \n",
       "\n",
       "[5 rows x 41 columns]"
      ]
     },
     "execution_count": 20,
     "metadata": {},
     "output_type": "execute_result"
    }
   ],
   "source": [
    "merged_df.head()"
   ]
  },
  {
   "cell_type": "markdown",
   "id": "62dbfa31",
   "metadata": {},
   "source": [
    "- Date format: Convert to datetime and check ordering."
   ]
  },
  {
   "cell_type": "code",
   "execution_count": 16,
   "id": "4597dd2e",
   "metadata": {},
   "outputs": [
    {
     "name": "stdout",
     "output_type": "stream",
     "text": [
      "Invalid dates: 0\n"
     ]
    }
   ],
   "source": [
    "merged_df[\"date\"] = pd.to_datetime(merged_df[\"date\"], errors=\"coerce\")\n",
    "\n",
    "# Check if any failed conversion (become NaT)\n",
    "print(\"Invalid dates:\", merged_df[\"date\"].isna().sum())"
   ]
  },
  {
   "cell_type": "code",
   "execution_count": 17,
   "id": "07b8ccd3",
   "metadata": {},
   "outputs": [
    {
     "name": "stdout",
     "output_type": "stream",
     "text": [
      "Unique use_chip values: ['Swipe Transaction' 'Online Transaction' 'Chip Transaction']\n",
      "Unique fraud labels: ['No' nan 'Yes']\n",
      "Unique state codes: 199\n"
     ]
    }
   ],
   "source": [
    "# Check typos or inconsistent formatting.\n",
    "print(\"Unique use_chip values:\", merged_df[\"use_chip\"].unique())\n",
    "print(\"Unique fraud labels:\", merged_df[\"is_fraud\"].unique())\n",
    "print(\"Unique state codes:\", merged_df[\"merchant_state\"].nunique())"
   ]
  },
  {
   "cell_type": "code",
   "execution_count": 18,
   "id": "c63ca2b1",
   "metadata": {},
   "outputs": [
    {
     "name": "stdout",
     "output_type": "stream",
     "text": [
      "MCC codes with >1 description:\n",
      " Series([], Name: mcc_description, dtype: int64)\n"
     ]
    }
   ],
   "source": [
    "# Check how many codes map to multiple descriptions\n",
    "mcc_check = merged_df.groupby(\"mcc_code\")[\"mcc_description\"].nunique()\n",
    "print(\"MCC codes with >1 description:\\n\", mcc_check[mcc_check > 1])"
   ]
  },
  {
   "cell_type": "markdown",
   "id": "52f25144",
   "metadata": {},
   "source": [
    "## 4. Création de variables dérivées  \n",
    "  - Heure de transaction  \n",
    "  - Jour de la semaine  \n",
    "  - Montant normalisé  \n",
    "  - Intervalle entre deux transactions  \n",
    "  - Autres pertinentes  "
   ]
  },
  {
   "cell_type": "code",
   "execution_count": 21,
   "id": "7f868e66",
   "metadata": {},
   "outputs": [],
   "source": [
    "# Find patterns and trends by looking at transaction' hour, day and month\n",
    "merged_df[\"transaction_hour\"] = merged_df[\"date\"].dt.hour\n",
    "merged_df[\"transaction_day\"] = merged_df[\"date\"].dt.dayofweek  # 0=Mon, 6=Sun\n",
    "merged_df[\"transaction_month\"] = merged_df[\"date\"].dt.month"
   ]
  },
  {
   "cell_type": "code",
   "execution_count": 22,
   "id": "8f106acf",
   "metadata": {},
   "outputs": [],
   "source": [
    "# Scale the amount relative to the client’s yearly income\n",
    "merged_df[\"amount_to_income\"] = merged_df[\"amount\"] / merged_df[\"yearly_income\"].replace(0, np.nan)"
   ]
  },
  {
   "cell_type": "code",
   "execution_count": 23,
   "id": "ec8d7971",
   "metadata": {},
   "outputs": [],
   "source": [
    "# For each client_id, compute the time difference between consecutive transactions\n",
    "merged_df = merged_df.sort_values([\"client_id\", \"date\"])\n",
    "merged_df[\"time_since_last_txn\"] = merged_df.groupby(\"client_id\")[\"date\"].diff().dt.total_seconds()"
   ]
  },
  {
   "cell_type": "markdown",
   "id": "04c4dd30",
   "metadata": {},
   "source": [
    "**5. Visualisation exploratoire**  \n",
    "  - Diagrammes en secteurs des top 10 commerçants (revenus & nombre de transactions)  \n",
    "  - Visualisation des périodes de pointe  \n",
    "  - Interprétation  "
   ]
  },
  {
   "cell_type": "markdown",
   "id": "dfb81372",
   "metadata": {},
   "source": [
    "**6. Encodage des variables catégorielles**  \n",
    "  - Codes MCC, types de cartes  \n",
    "  - Méthodes d’encodage testées (Label vs One-hot)  \n",
    "  - Justification des choix retenus "
   ]
  },
  {
   "cell_type": "markdown",
   "id": "b9be2e5f",
   "metadata": {},
   "source": [
    "# 3.2  Analyse d’association (20%)\n"
   ]
  },
  {
   "cell_type": "markdown",
   "id": "4f06d843",
   "metadata": {},
   "source": [
    "- **1. Préparation des transactions pour Apriori / FP-Growth**  \n",
    "  - Structure attendue   (apriori vs fp-growth)\n",
    "  - Préparation des transactions pour être compatibles avec chacune"
   ]
  },
  {
   "cell_type": "markdown",
   "id": "0b17db84",
   "metadata": {},
   "source": [
    "- **2.Extraction de règles d’association**  \n",
    "  - Exemples concrets  \n",
    "  - Patterns observés (habitudes de consommation, fidélité, etc.)"
   ]
  },
  {
   "cell_type": "markdown",
   "id": "cd6135e4",
   "metadata": {},
   "source": [
    "- **3. Codes MCC et types de commerces**  \n",
    "  - Dépenses élevées  \n",
    "  - Patterns comportementaux  \n"
   ]
  },
  {
   "cell_type": "markdown",
   "id": "03876b97",
   "metadata": {},
   "source": [
    "- **4. Associations types cartes ↔ commerçants**  \n",
    "  - Profils d’utilisation  "
   ]
  },
  {
   "cell_type": "markdown",
   "id": "45bc3c91",
   "metadata": {},
   "source": [
    "- **5.Combinaisons liées aux fraudes**  \n",
    "  - Montants élevés, heures tardives, types de commerçants"
   ]
  },
  {
   "cell_type": "markdown",
   "id": "ae3cfaa3",
   "metadata": {},
   "source": [
    "\n",
    "- **6. interprétation des métriques**  \n",
    "  - Support, confiance, lift  \n",
    "  - Visualisations des règles  "
   ]
  },
  {
   "cell_type": "markdown",
   "id": "3028e596",
   "metadata": {},
   "source": [
    "- **7. Choix des seuils (support, confiance)**  \n",
    "  - Justification en fonction du volume et de l’objectif  "
   ]
  },
  {
   "cell_type": "markdown",
   "id": "9672e1cd",
   "metadata": {},
   "source": [
    "# 3.3 Analyse de séquences (15%)"
   ]
  },
  {
   "cell_type": "markdown",
   "id": "113e6078",
   "metadata": {},
   "source": [
    "- **Construction des séquences de transactions**  \n",
    "  - Par client  \n",
    "  - Variables d’ordre  (horodatage, type de commer¸cant, montant, etc.)?"
   ]
  },
  {
   "cell_type": "markdown",
   "id": "c8bddc84",
   "metadata": {},
   "source": [
    "- **Application d’algorithmes (PrefixSpan, SPADE, EMMA)**  \n",
    "  - Parcours typiques identifiés  "
   ]
  },
  {
   "cell_type": "markdown",
   "id": "4e1ccea6",
   "metadata": {},
   "source": [
    "\n",
    "- **Habitudes et routines**  \n",
    "  - Parcours d’achat récurrents  (fréquences, routines ou habitudes récurrentes)"
   ]
  },
  {
   "cell_type": "markdown",
   "id": "c35f44b4",
   "metadata": {},
   "source": [
    "\n",
    "- **Patterns précurseurs de fraude**  \n",
    "  - Petites transactions → retrait → fraude  \n",
    "  - Interprétation  par motifs temporels ou comportementaux"
   ]
  },
  {
   "cell_type": "markdown",
   "id": "47b76261",
   "metadata": {},
   "source": [
    "\n",
    "- **Évolution du comportement client**  \n",
    "  - Séquences avec contraintes temporelles "
   ]
  },
  {
   "cell_type": "markdown",
   "id": "0487e86b",
   "metadata": {},
   "source": [
    "\n",
    "- **Visualisations**  \n",
    "  - Graphes de séquences fréquentes  \n",
    "  - Aide à l’interprétation  "
   ]
  },
  {
   "cell_type": "markdown",
   "id": "9d3b8321",
   "metadata": {},
   "source": [
    "# 3.4 Recommandation sur les associations ou séquences (10%)"
   ]
  },
  {
   "cell_type": "markdown",
   "id": "ebb6714b",
   "metadata": {},
   "source": [
    "- **Objectif : proposer des items complémentaires**  \n",
    "- **Méthodes testées :**  \n",
    "  - Règles d’association fréquentes  \n",
    "  - Séquences typiques  \n",
    "  - Similarité entre transactions  \n",
    "- **Implémentation d’un script Python autonome (`recommender.py`)**  \n",
    "- **Exemple de recommandations générées**  \n",
    "\n",
    "---"
   ]
  },
  {
   "cell_type": "markdown",
   "id": "661634ca",
   "metadata": {},
   "source": [
    "# 3.5 Analyse statistique comparative des classes (10%)"
   ]
  },
  {
   "cell_type": "markdown",
   "id": "7c54d2d3",
   "metadata": {},
   "source": [
    "- **Comparaison fraude vs légitime**  \n",
    "  - Scatter plots (2D, 3D)  \n",
    "  - Réduction de dimension (ACP, t-SNE, UMAP)  \n",
    "  - Regroupements et anomalies  \n"
   ]
  },
  {
   "cell_type": "markdown",
   "id": "d3d85cb8",
   "metadata": {},
   "source": [
    "- **Approche univariée**  \n",
    "  - Sélection de variables pertinentes  \n",
    "  - Tests statistiques (t-test, Mann-Whitney, KS-test)  \n",
    "  - Résultats comparés  "
   ]
  },
  {
   "cell_type": "markdown",
   "id": "98e9ff34",
   "metadata": {},
   "source": [
    "\n",
    "- **Approche multivariée**  \n",
    "  - Hotelling, analyse discriminante linéaire  \n",
    "  - Séparation des classes  \n",
    "  - Visualisations complémentaires "
   ]
  },
  {
   "cell_type": "markdown",
   "id": "73dafe6f",
   "metadata": {},
   "source": [
    "- **Discussion**  \n",
    "  - Avantages, limites et implications  \n",
    "  - Robustesse et pertinence des méthodes  \n",
    "\n",
    "---"
   ]
  },
  {
   "cell_type": "markdown",
   "id": "0c23abb2",
   "metadata": {},
   "source": [
    "# 3.6 Pr´esentation des r´esultats (20%)"
   ]
  },
  {
   "cell_type": "markdown",
   "id": "2d0cb454",
   "metadata": {},
   "source": [
    "\n",
    "- Objectif de chaque méthode (bref rappel)  \n",
    "- Démarche appliquée  \n",
    "- Résultats obtenus  \n",
    "- Commentaires et interprétations  \n",
    "- Visualisations pertinentes  \n",
    "- Citations des sources utilisées (obligatoires)  "
   ]
  }
 ],
 "metadata": {
  "kernelspec": {
   "display_name": "Python 3.12 (udes_sd_a25)",
   "language": "python",
   "name": "udes_sd_a25"
  },
  "language_info": {
   "codemirror_mode": {
    "name": "ipython",
    "version": 3
   },
   "file_extension": ".py",
   "mimetype": "text/x-python",
   "name": "python",
   "nbconvert_exporter": "python",
   "pygments_lexer": "ipython3",
   "version": "3.12.11"
  }
 },
 "nbformat": 4,
 "nbformat_minor": 5
}
