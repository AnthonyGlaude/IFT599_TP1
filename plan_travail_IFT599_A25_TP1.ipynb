{
 "cells": [
  {
   "cell_type": "markdown",
   "id": "0ea99dab",
   "metadata": {},
   "source": []
  },
  {
   "cell_type": "markdown",
   "id": "12208a01",
   "metadata": {},
   "source": [
    "# TP1 – Analyse des données (IFT599 / IFT799)\n",
    "\n",
    "**Auteurs :**  \n",
    "-  \n",
    "-  \n",
    "-  3\n",
    "\n",
    "**Date de remise :** 03 octobre 2025  \n"
   ]
  },
  {
   "cell_type": "code",
   "execution_count": 15,
   "id": "01a70c33",
   "metadata": {},
   "outputs": [],
   "source": [
    "import pandas as pd\n",
    "import json\n",
    "import numpy as np"
   ]
  },
  {
   "cell_type": "markdown",
   "id": "5ea44053",
   "metadata": {},
   "source": [
    "## 2. Jeu de données \n"
   ]
  },
  {
   "cell_type": "code",
   "execution_count": 16,
   "id": "f6a4354e",
   "metadata": {},
   "outputs": [
    {
     "name": "stdout",
     "output_type": "stream",
     "text": [
      "Transaction         id                 date  client_id  card_id   amount  \\\n",
      "0  7475327  2010-01-01 00:01:00       1556     2972  $-77.00   \n",
      "1  7475328  2010-01-01 00:02:00        561     4575   $14.57   \n",
      "2  7475329  2010-01-01 00:02:00       1129      102   $80.00   \n",
      "\n",
      "            use_chip  merchant_id merchant_city merchant_state      zip   mcc  \\\n",
      "0  Swipe Transaction        59935        Beulah             ND  58523.0  5499   \n",
      "1  Swipe Transaction        67570    Bettendorf             IA  52722.0  5311   \n",
      "2  Swipe Transaction        27092         Vista             CA  92084.0  4829   \n",
      "\n",
      "  errors  \n",
      "0    NaN  \n",
      "1    NaN  \n",
      "2    NaN  \n",
      "cards      id  client_id card_brand card_type       card_number  expires  cvv  \\\n",
      "0  4524        825       Visa     Debit  4344676511950444  12/2022  623   \n",
      "1  2731        825       Visa     Debit  4956965974959986  12/2020  393   \n",
      "2  3701        825       Visa     Debit  4582313478255491  02/2024  719   \n",
      "\n",
      "  has_chip  num_cards_issued credit_limit acct_open_date  \\\n",
      "0      YES                 2       $24295        09/2002   \n",
      "1      YES                 2       $21968        04/2014   \n",
      "2      YES                 2       $46414        07/2003   \n",
      "\n",
      "   year_pin_last_changed card_on_dark_web  \n",
      "0                   2008               No  \n",
      "1                   2014               No  \n",
      "2                   2004               No  \n"
     ]
    }
   ],
   "source": [
    "\n",
    "\n",
    "#  Chargement des fichiers de données \n",
    "transactions = pd.read_csv(\"data/transactions_data.csv\")\n",
    "cards = pd.read_csv(\"data/cards_data.csv\")\n",
    "users = pd.read_csv(\"data/users_data.csv\")\n",
    "\n",
    "fraud = pd.read_json(\"data/train_fraud_labels.json\")\n",
    "with open(\"data/mcc_codes.json\", \"r\") as f:\n",
    "    mcc_dict = json.load(f)\n",
    "mcc = pd.DataFrame(list(mcc_dict.items()), columns=[\"mcc_code\", \"description\"])\n",
    "\n",
    "# Vérification rapide\n",
    "print(\"Transaction\", transactions.head(3))\n",
    "print(\"cards\",cards.head(3))\n",
    "\n"
   ]
  },
  {
   "cell_type": "code",
   "execution_count": 17,
   "id": "bdad918d",
   "metadata": {},
   "outputs": [
    {
     "name": "stdout",
     "output_type": "stream",
     "text": [
      "users      id  current_age  retirement_age  birth_year  birth_month  gender  \\\n",
      "0   825           53              66        1966           11  Female   \n",
      "1  1746           53              68        1966           12  Female   \n",
      "2  1718           81              67        1938           11  Female   \n",
      "\n",
      "                  address  latitude  longitude per_capita_income  \\\n",
      "0           462 Rose Lane     34.15    -117.76            $29278   \n",
      "1  3606 Federal Boulevard     40.76     -73.74            $37891   \n",
      "2         766 Third Drive     34.02    -117.89            $22681   \n",
      "\n",
      "  yearly_income total_debt  credit_score  num_credit_cards  \n",
      "0        $59696    $127613           787                 5  \n",
      "1        $77254    $191349           701                 5  \n",
      "2        $33483       $196           698                 5  \n"
     ]
    }
   ],
   "source": [
    "print(\"users\", users.head(3))"
   ]
  },
  {
   "cell_type": "code",
   "execution_count": 18,
   "id": "0c13363e",
   "metadata": {},
   "outputs": [
    {
     "name": "stdout",
     "output_type": "stream",
     "text": [
      "fraud          target\n",
      "10649266     No\n",
      "23410063     No\n",
      "9316588      No\n",
      "mcc   mcc_code                           description\n",
      "0     5812         Eating Places and Restaurants\n",
      "1     5541                      Service Stations\n",
      "2     7996  Amusement Parks, Carnivals, Circuses\n"
     ]
    }
   ],
   "source": [
    "print(\"fraud\", fraud.head(3))\n",
    "print(\"mcc\", mcc.head(3))"
   ]
  },
  {
   "cell_type": "markdown",
   "id": "0c88137f",
   "metadata": {},
   "source": []
  }
 ],
 "metadata": {
  "kernelspec": {
   "display_name": "base",
   "language": "python",
   "name": "python3"
  },
  "language_info": {
   "codemirror_mode": {
    "name": "ipython",
    "version": 3
   },
   "file_extension": ".py",
   "mimetype": "text/x-python",
   "name": "python",
   "nbconvert_exporter": "python",
   "pygments_lexer": "ipython3",
   "version": "3.12.3"
  }
 },
 "nbformat": 4,
 "nbformat_minor": 5
}
