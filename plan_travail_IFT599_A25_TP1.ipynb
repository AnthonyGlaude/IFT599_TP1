{
 "cells": [
  {
   "cell_type": "markdown",
   "id": "0ea99dab",
   "metadata": {},
   "source": []
  },
  {
   "cell_type": "markdown",
   "id": "12208a01",
   "metadata": {},
   "source": [
    "# TP1 – Analyse des données (IFT599 / IFT799)\n",
    "\n",
    "**Auteurs :**  \n",
    "-  \n",
    "-  \n",
    "-  3\n",
    "\n",
    "**Date de remise :** 03 octobre 2025  \n"
   ]
  },
  {
   "cell_type": "code",
   "execution_count": 1,
   "id": "01a70c33",
   "metadata": {},
   "outputs": [],
   "source": [
    "# Import necessary libraries\n",
    "import pandas as pd\n",
    "import numpy as np\n",
    "import matplotlib.pyplot as plt\n",
    "import seaborn as sns\n",
    "import json"
   ]
  },
  {
   "cell_type": "markdown",
   "id": "981c2798",
   "metadata": {},
   "source": [
    "### Charger tous les jeux de données"
   ]
  },
  {
   "cell_type": "code",
   "execution_count": 3,
   "id": "c9103a84",
   "metadata": {},
   "outputs": [],
   "source": [
    "# Load transaction data\n",
    "transactions = pd.read_csv(\"data/transactions_data.csv\")\n",
    "\n",
    "# Load card information\n",
    "cards = pd.read_csv(\"data/cards_data.csv\")\n",
    "\n",
    "# Load user information\n",
    "users = pd.read_csv(\"data/users_data.csv\")\n",
    "\n",
    "# Load mcc codes information\n",
    "with open(\"data/mcc_codes.json\", \"r\") as f:\n",
    "    mcc_data = json.load(f)\n",
    "\n",
    "mcc_codes = pd.DataFrame(list(mcc_data.items()), columns=[\"code\", \"description\"])\n",
    "\n",
    "# Load fraud information\n",
    "with open(\"data/train_fraud_labels.json\", \"r\") as f:\n",
    "    fraud_data = json.load(f)\n",
    "\n",
    "# Extract the inner dictionary\n",
    "fraud_dict = fraud_data['target']\n",
    "\n",
    "# Convert to DataFrame\n",
    "fraud_labels = pd.DataFrame(list(fraud_dict.items()), columns=[\"transaction_id\", \"is_fraud\"])"
   ]
  },
  {
   "cell_type": "markdown",
   "id": "0c88137f",
   "metadata": {},
   "source": [
    "# 3.1 Préparation des données (25%)\n",
    "\n",
    "**1. Fusion des différents fichiers** (`transactions`, `cards`, `users`, `mcc`, `fraud`)  \n",
    "  - Clés de jointure utilisées  \n",
    "  - Vérifier lees colonnes dupliquées et suffixes `_x`, `_y`  (causés par pandas)\n",
    "  - Expliquer les choix "
   ]
  },
  {
   "cell_type": "code",
   "execution_count": 4,
   "id": "d4dd7b4f",
   "metadata": {},
   "outputs": [],
   "source": [
    "# Rename keys before merging\n",
    "transactions = transactions.rename(columns={\"id\": \"transaction_id\"})\n",
    "cards = cards.rename(columns={\"id\": \"card_id\"})\n",
    "users = users.rename(columns={\"id\": \"user_id\"})\n",
    "mcc_codes = mcc_codes.rename(columns={\"code\": \"mcc_code\", \"description\": \"mcc_description\"})"
   ]
  },
  {
   "cell_type": "code",
   "execution_count": 5,
   "id": "ec04fc9e",
   "metadata": {},
   "outputs": [],
   "source": [
    "# Ensure same dtype for transaction_id\n",
    "transactions[\"transaction_id\"] = transactions[\"transaction_id\"].astype(str)\n",
    "fraud_labels[\"transaction_id\"] = fraud_labels[\"transaction_id\"].astype(str)\n",
    "\n",
    "# Ensure same dtype for mcc\n",
    "transactions[\"mcc\"] = transactions[\"mcc\"].astype(str)\n",
    "mcc_codes[\"mcc_code\"] = mcc_codes[\"mcc_code\"].astype(str)"
   ]
  },
  {
   "cell_type": "code",
   "execution_count": 6,
   "id": "caa4d92c",
   "metadata": {},
   "outputs": [
    {
     "data": {
      "text/html": [
       "<div>\n",
       "<style scoped>\n",
       "    .dataframe tbody tr th:only-of-type {\n",
       "        vertical-align: middle;\n",
       "    }\n",
       "\n",
       "    .dataframe tbody tr th {\n",
       "        vertical-align: top;\n",
       "    }\n",
       "\n",
       "    .dataframe thead th {\n",
       "        text-align: right;\n",
       "    }\n",
       "</style>\n",
       "<table border=\"1\" class=\"dataframe\">\n",
       "  <thead>\n",
       "    <tr style=\"text-align: right;\">\n",
       "      <th></th>\n",
       "      <th>transaction_id</th>\n",
       "      <th>date</th>\n",
       "      <th>client_id</th>\n",
       "      <th>card_id</th>\n",
       "      <th>amount</th>\n",
       "      <th>use_chip</th>\n",
       "      <th>merchant_id</th>\n",
       "      <th>merchant_city</th>\n",
       "      <th>merchant_state</th>\n",
       "      <th>zip</th>\n",
       "      <th>...</th>\n",
       "      <th>latitude</th>\n",
       "      <th>longitude</th>\n",
       "      <th>per_capita_income</th>\n",
       "      <th>yearly_income</th>\n",
       "      <th>total_debt</th>\n",
       "      <th>credit_score</th>\n",
       "      <th>num_credit_cards</th>\n",
       "      <th>mcc_code</th>\n",
       "      <th>mcc_description</th>\n",
       "      <th>is_fraud</th>\n",
       "    </tr>\n",
       "  </thead>\n",
       "  <tbody>\n",
       "    <tr>\n",
       "      <th>0</th>\n",
       "      <td>7475327</td>\n",
       "      <td>2010-01-01 00:01:00</td>\n",
       "      <td>1556</td>\n",
       "      <td>2972</td>\n",
       "      <td>$-77.00</td>\n",
       "      <td>Swipe Transaction</td>\n",
       "      <td>59935</td>\n",
       "      <td>Beulah</td>\n",
       "      <td>ND</td>\n",
       "      <td>58523.0</td>\n",
       "      <td>...</td>\n",
       "      <td>46.80</td>\n",
       "      <td>-100.76</td>\n",
       "      <td>$23679</td>\n",
       "      <td>$48277</td>\n",
       "      <td>$110153</td>\n",
       "      <td>740</td>\n",
       "      <td>4</td>\n",
       "      <td>5499</td>\n",
       "      <td>Miscellaneous Food Stores</td>\n",
       "      <td>No</td>\n",
       "    </tr>\n",
       "    <tr>\n",
       "      <th>1</th>\n",
       "      <td>7475328</td>\n",
       "      <td>2010-01-01 00:02:00</td>\n",
       "      <td>561</td>\n",
       "      <td>4575</td>\n",
       "      <td>$14.57</td>\n",
       "      <td>Swipe Transaction</td>\n",
       "      <td>67570</td>\n",
       "      <td>Bettendorf</td>\n",
       "      <td>IA</td>\n",
       "      <td>52722.0</td>\n",
       "      <td>...</td>\n",
       "      <td>40.80</td>\n",
       "      <td>-91.12</td>\n",
       "      <td>$18076</td>\n",
       "      <td>$36853</td>\n",
       "      <td>$112139</td>\n",
       "      <td>834</td>\n",
       "      <td>5</td>\n",
       "      <td>5311</td>\n",
       "      <td>Department Stores</td>\n",
       "      <td>No</td>\n",
       "    </tr>\n",
       "    <tr>\n",
       "      <th>2</th>\n",
       "      <td>7475329</td>\n",
       "      <td>2010-01-01 00:02:00</td>\n",
       "      <td>1129</td>\n",
       "      <td>102</td>\n",
       "      <td>$80.00</td>\n",
       "      <td>Swipe Transaction</td>\n",
       "      <td>27092</td>\n",
       "      <td>Vista</td>\n",
       "      <td>CA</td>\n",
       "      <td>92084.0</td>\n",
       "      <td>...</td>\n",
       "      <td>33.18</td>\n",
       "      <td>-117.29</td>\n",
       "      <td>$16894</td>\n",
       "      <td>$34449</td>\n",
       "      <td>$36540</td>\n",
       "      <td>686</td>\n",
       "      <td>3</td>\n",
       "      <td>4829</td>\n",
       "      <td>Money Transfer</td>\n",
       "      <td>No</td>\n",
       "    </tr>\n",
       "    <tr>\n",
       "      <th>3</th>\n",
       "      <td>7475331</td>\n",
       "      <td>2010-01-01 00:05:00</td>\n",
       "      <td>430</td>\n",
       "      <td>2860</td>\n",
       "      <td>$200.00</td>\n",
       "      <td>Swipe Transaction</td>\n",
       "      <td>27092</td>\n",
       "      <td>Crown Point</td>\n",
       "      <td>IN</td>\n",
       "      <td>46307.0</td>\n",
       "      <td>...</td>\n",
       "      <td>41.42</td>\n",
       "      <td>-87.35</td>\n",
       "      <td>$26168</td>\n",
       "      <td>$53350</td>\n",
       "      <td>$128676</td>\n",
       "      <td>685</td>\n",
       "      <td>5</td>\n",
       "      <td>4829</td>\n",
       "      <td>Money Transfer</td>\n",
       "      <td>NaN</td>\n",
       "    </tr>\n",
       "    <tr>\n",
       "      <th>4</th>\n",
       "      <td>7475332</td>\n",
       "      <td>2010-01-01 00:06:00</td>\n",
       "      <td>848</td>\n",
       "      <td>3915</td>\n",
       "      <td>$46.41</td>\n",
       "      <td>Swipe Transaction</td>\n",
       "      <td>13051</td>\n",
       "      <td>Harwood</td>\n",
       "      <td>MD</td>\n",
       "      <td>20776.0</td>\n",
       "      <td>...</td>\n",
       "      <td>38.86</td>\n",
       "      <td>-76.60</td>\n",
       "      <td>$33529</td>\n",
       "      <td>$68362</td>\n",
       "      <td>$96182</td>\n",
       "      <td>711</td>\n",
       "      <td>2</td>\n",
       "      <td>5813</td>\n",
       "      <td>Drinking Places (Alcoholic Beverages)</td>\n",
       "      <td>No</td>\n",
       "    </tr>\n",
       "  </tbody>\n",
       "</table>\n",
       "<p>5 rows × 41 columns</p>\n",
       "</div>"
      ],
      "text/plain": [
       "  transaction_id                 date  client_id  card_id   amount  \\\n",
       "0        7475327  2010-01-01 00:01:00       1556     2972  $-77.00   \n",
       "1        7475328  2010-01-01 00:02:00        561     4575   $14.57   \n",
       "2        7475329  2010-01-01 00:02:00       1129      102   $80.00   \n",
       "3        7475331  2010-01-01 00:05:00        430     2860  $200.00   \n",
       "4        7475332  2010-01-01 00:06:00        848     3915   $46.41   \n",
       "\n",
       "            use_chip  merchant_id merchant_city merchant_state      zip  ...  \\\n",
       "0  Swipe Transaction        59935        Beulah             ND  58523.0  ...   \n",
       "1  Swipe Transaction        67570    Bettendorf             IA  52722.0  ...   \n",
       "2  Swipe Transaction        27092         Vista             CA  92084.0  ...   \n",
       "3  Swipe Transaction        27092   Crown Point             IN  46307.0  ...   \n",
       "4  Swipe Transaction        13051       Harwood             MD  20776.0  ...   \n",
       "\n",
       "  latitude longitude  per_capita_income yearly_income total_debt  \\\n",
       "0    46.80   -100.76             $23679        $48277    $110153   \n",
       "1    40.80    -91.12             $18076        $36853    $112139   \n",
       "2    33.18   -117.29             $16894        $34449     $36540   \n",
       "3    41.42    -87.35             $26168        $53350    $128676   \n",
       "4    38.86    -76.60             $33529        $68362     $96182   \n",
       "\n",
       "   credit_score num_credit_cards  mcc_code  \\\n",
       "0           740                4      5499   \n",
       "1           834                5      5311   \n",
       "2           686                3      4829   \n",
       "3           685                5      4829   \n",
       "4           711                2      5813   \n",
       "\n",
       "                         mcc_description  is_fraud  \n",
       "0              Miscellaneous Food Stores        No  \n",
       "1                      Department Stores        No  \n",
       "2                         Money Transfer        No  \n",
       "3                         Money Transfer       NaN  \n",
       "4  Drinking Places (Alcoholic Beverages)        No  \n",
       "\n",
       "[5 rows x 41 columns]"
      ]
     },
     "execution_count": 6,
     "metadata": {},
     "output_type": "execute_result"
    }
   ],
   "source": [
    "merged_df = (\n",
    "    transactions\n",
    "    .merge(cards, on=\"card_id\", how=\"left\", suffixes=(\"\", \"_card\"))\n",
    "    .merge(users, left_on=\"client_id\", right_on=\"user_id\", how=\"left\", suffixes=(\"\", \"_user\"))\n",
    "    .merge(mcc_codes, left_on=\"mcc\", right_on=\"mcc_code\", how=\"left\")\n",
    "    .merge(fraud_labels, on=\"transaction_id\", how=\"left\")\n",
    ")\n",
    "\n",
    "merged_df.head()"
   ]
  },
  {
   "cell_type": "markdown",
   "id": "d43813e0",
   "metadata": {},
   "source": [
    "**2. Identification des variables peu pertinentes**  \n",
    "  - Liste des variables exclues  \n",
    "  - Justifications (faible variance, redondance, trop de valeurs manquantes, etc.)(liste dans le pdf)  \n",
    "  - Visualisations ou statistiques descriptives à l’appui  (généralement boxplot)"
   ]
  },
  {
   "cell_type": "code",
   "execution_count": null,
   "id": "66a54180",
   "metadata": {},
   "outputs": [],
   "source": [
    "# Check variance for numeric features\n",
    "low_variance = merged_df.var(numeric_only=True).sort_values()\n",
    "print(low_variance)\n",
    "\n",
    "# Look at categorical features' unique values\n",
    "for col in merged_df.select_dtypes(include=['object']).columns:\n",
    "    print(col, merged_df[col].nunique())"
   ]
  },
  {
   "cell_type": "markdown",
   "id": "196361b2",
   "metadata": {},
   "source": [
    "**3. Nettoyage des données**  \n",
    "  - Valeurs manquantes  \n",
    "  - Doublons  \n",
    "  - Types de données  \n",
    "  - Incohérences  "
   ]
  },
  {
   "cell_type": "markdown",
   "id": "52f25144",
   "metadata": {},
   "source": [
    "**4. Création de variables dérivées**  \n",
    "  - Heure de transaction  \n",
    "  - Jour de la semaine  \n",
    "  - Montant normalisé  \n",
    "  - Intervalle entre deux transactions  \n",
    "  - Autres pertinentes  "
   ]
  },
  {
   "cell_type": "markdown",
   "id": "04c4dd30",
   "metadata": {},
   "source": [
    "**5. Visualisation exploratoire**  \n",
    "  - Diagrammes en secteurs des top 10 commerçants (revenus & nombre de transactions)  \n",
    "  - Visualisation des périodes de pointe  \n",
    "  - Interprétation  "
   ]
  },
  {
   "cell_type": "markdown",
   "id": "dfb81372",
   "metadata": {},
   "source": [
    "**6. Encodage des variables catégorielles**  \n",
    "  - Codes MCC, types de cartes  \n",
    "  - Méthodes d’encodage testées (Label vs One-hot)  \n",
    "  - Justification des choix retenus "
   ]
  },
  {
   "cell_type": "markdown",
   "id": "b9be2e5f",
   "metadata": {},
   "source": [
    "# 3.2  Analyse d’association (20%)\n"
   ]
  },
  {
   "cell_type": "markdown",
   "id": "4f06d843",
   "metadata": {},
   "source": [
    "- **1. Préparation des transactions pour Apriori / FP-Growth**  \n",
    "  - Structure attendue   (apriori vs fp-growth)\n",
    "  - Préparation des transactions pour être compatibles avec chacune"
   ]
  },
  {
   "cell_type": "markdown",
   "id": "0b17db84",
   "metadata": {},
   "source": [
    "- **2.Extraction de règles d’association**  \n",
    "  - Exemples concrets  \n",
    "  - Patterns observés (habitudes de consommation, fidélité, etc.)"
   ]
  },
  {
   "cell_type": "markdown",
   "id": "cd6135e4",
   "metadata": {},
   "source": [
    "- **3. Codes MCC et types de commerces**  \n",
    "  - Dépenses élevées  \n",
    "  - Patterns comportementaux  \n"
   ]
  },
  {
   "cell_type": "markdown",
   "id": "03876b97",
   "metadata": {},
   "source": [
    "- **4. Associations types cartes ↔ commerçants**  \n",
    "  - Profils d’utilisation  "
   ]
  },
  {
   "cell_type": "markdown",
   "id": "45bc3c91",
   "metadata": {},
   "source": [
    "- **5.Combinaisons liées aux fraudes**  \n",
    "  - Montants élevés, heures tardives, types de commerçants"
   ]
  },
  {
   "cell_type": "markdown",
   "id": "ae3cfaa3",
   "metadata": {},
   "source": [
    "\n",
    "- **6. interprétation des métriques**  \n",
    "  - Support, confiance, lift  \n",
    "  - Visualisations des règles  "
   ]
  },
  {
   "cell_type": "markdown",
   "id": "3028e596",
   "metadata": {},
   "source": [
    "- **7. Choix des seuils (support, confiance)**  \n",
    "  - Justification en fonction du volume et de l’objectif  "
   ]
  },
  {
   "cell_type": "markdown",
   "id": "9672e1cd",
   "metadata": {},
   "source": [
    "# 3.3 Analyse de séquences (15%)"
   ]
  },
  {
   "cell_type": "markdown",
   "id": "113e6078",
   "metadata": {},
   "source": [
    "- **Construction des séquences de transactions**  \n",
    "  - Par client  \n",
    "  - Variables d’ordre  (horodatage, type de commer¸cant, montant, etc.)?"
   ]
  },
  {
   "cell_type": "markdown",
   "id": "c8bddc84",
   "metadata": {},
   "source": [
    "- **Application d’algorithmes (PrefixSpan, SPADE, EMMA)**  \n",
    "  - Parcours typiques identifiés  "
   ]
  },
  {
   "cell_type": "markdown",
   "id": "4e1ccea6",
   "metadata": {},
   "source": [
    "\n",
    "- **Habitudes et routines**  \n",
    "  - Parcours d’achat récurrents  (fréquences, routines ou habitudes récurrentes)"
   ]
  },
  {
   "cell_type": "markdown",
   "id": "c35f44b4",
   "metadata": {},
   "source": [
    "\n",
    "- **Patterns précurseurs de fraude**  \n",
    "  - Petites transactions → retrait → fraude  \n",
    "  - Interprétation  par motifs temporels ou comportementaux"
   ]
  },
  {
   "cell_type": "markdown",
   "id": "47b76261",
   "metadata": {},
   "source": [
    "\n",
    "- **Évolution du comportement client**  \n",
    "  - Séquences avec contraintes temporelles "
   ]
  },
  {
   "cell_type": "markdown",
   "id": "0487e86b",
   "metadata": {},
   "source": [
    "\n",
    "- **Visualisations**  \n",
    "  - Graphes de séquences fréquentes  \n",
    "  - Aide à l’interprétation  "
   ]
  },
  {
   "cell_type": "markdown",
   "id": "9d3b8321",
   "metadata": {},
   "source": [
    "# 3.4 Recommandation sur les associations ou séquences (10%)"
   ]
  },
  {
   "cell_type": "markdown",
   "id": "ebb6714b",
   "metadata": {},
   "source": [
    "- **Objectif : proposer des items complémentaires**  \n",
    "- **Méthodes testées :**  \n",
    "  - Règles d’association fréquentes  \n",
    "  - Séquences typiques  \n",
    "  - Similarité entre transactions  \n",
    "- **Implémentation d’un script Python autonome (`recommender.py`)**  \n",
    "- **Exemple de recommandations générées**  \n",
    "\n",
    "---"
   ]
  },
  {
   "cell_type": "markdown",
   "id": "661634ca",
   "metadata": {},
   "source": [
    "# 3.5 Analyse statistique comparative des classes (10%)"
   ]
  },
  {
   "cell_type": "markdown",
   "id": "7c54d2d3",
   "metadata": {},
   "source": [
    "- **Comparaison fraude vs légitime**  \n",
    "  - Scatter plots (2D, 3D)  \n",
    "  - Réduction de dimension (ACP, t-SNE, UMAP)  \n",
    "  - Regroupements et anomalies  \n"
   ]
  },
  {
   "cell_type": "markdown",
   "id": "d3d85cb8",
   "metadata": {},
   "source": [
    "- **Approche univariée**  \n",
    "  - Sélection de variables pertinentes  \n",
    "  - Tests statistiques (t-test, Mann-Whitney, KS-test)  \n",
    "  - Résultats comparés  "
   ]
  },
  {
   "cell_type": "markdown",
   "id": "98e9ff34",
   "metadata": {},
   "source": [
    "\n",
    "- **Approche multivariée**  \n",
    "  - Hotelling, analyse discriminante linéaire  \n",
    "  - Séparation des classes  \n",
    "  - Visualisations complémentaires "
   ]
  },
  {
   "cell_type": "markdown",
   "id": "73dafe6f",
   "metadata": {},
   "source": [
    "- **Discussion**  \n",
    "  - Avantages, limites et implications  \n",
    "  - Robustesse et pertinence des méthodes  \n",
    "\n",
    "---"
   ]
  },
  {
   "cell_type": "markdown",
   "id": "0c23abb2",
   "metadata": {},
   "source": [
    "# 3.6 Pr´esentation des r´esultats (20%)"
   ]
  },
  {
   "cell_type": "markdown",
   "id": "2d0cb454",
   "metadata": {},
   "source": [
    "\n",
    "- Objectif de chaque méthode (bref rappel)  \n",
    "- Démarche appliquée  \n",
    "- Résultats obtenus  \n",
    "- Commentaires et interprétations  \n",
    "- Visualisations pertinentes  \n",
    "- Citations des sources utilisées (obligatoires)  "
   ]
  }
 ],
 "metadata": {
  "kernelspec": {
   "display_name": "Python 3.12 (udes_sd_a25)",
   "language": "python",
   "name": "udes_sd_a25"
  },
  "language_info": {
   "codemirror_mode": {
    "name": "ipython",
    "version": 3
   },
   "file_extension": ".py",
   "mimetype": "text/x-python",
   "name": "python",
   "nbconvert_exporter": "python",
   "pygments_lexer": "ipython3",
   "version": "3.12.11"
  }
 },
 "nbformat": 4,
 "nbformat_minor": 5
}
