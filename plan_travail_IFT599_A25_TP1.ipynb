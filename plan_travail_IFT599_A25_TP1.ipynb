{
 "cells": [
  {
   "cell_type": "markdown",
   "id": "0ea99dab",
   "metadata": {},
   "source": []
  },
  {
   "cell_type": "markdown",
   "id": "12208a01",
   "metadata": {},
   "source": [
    "# TP1 – Analyse des données (IFT599 / IFT799)\n",
    "\n",
    "**Auteurs :**  \n",
    "-  \n",
    "-  \n",
    "-  3\n",
    "\n",
    "**Date de remise :** 03 octobre 2025  \n"
   ]
  },
  {
   "cell_type": "code",
   "execution_count": 27,
   "id": "01a70c33",
   "metadata": {},
   "outputs": [],
   "source": [
    "import pandas as pd\n",
    "import json\n",
    "import numpy as np"
   ]
  },
  {
   "cell_type": "markdown",
   "id": "0c88137f",
   "metadata": {},
   "source": [
    "# 3.1 Préparation des données (25%)\n",
    "\n",
    "- **Fusion des différents fichiers** (`transactions`, `cards`, `users`, `mcc`, `fraud`)  \n",
    "  - Clés de jointure utilisées  \n",
    "  - Vérifier lees colonnes dupliquées et suffixes `_x`, `_y`  (causés par pandas)\n",
    "  - Expliquer les choix "
   ]
  },
  {
   "cell_type": "markdown",
   "id": "d43813e0",
   "metadata": {},
   "source": [
    "\n",
    "- **1. Identification des variables peu pertinentes**  \n",
    "  - Liste des variables exclues  \n",
    "  - Justifications (faible variance, redondance, trop de valeurs manquantes, etc.)(liste dans le pdf)  \n",
    "  - Visualisations ou statistiques descriptives à l’appui  (généralement boxplot)"
   ]
  },
  {
   "cell_type": "code",
   "execution_count": null,
   "id": "97c99c91",
   "metadata": {},
   "outputs": [
    {
     "name": "stdout",
     "output_type": "stream",
     "text": [
      "colonne dupliqué: (_user): ['id_user'] 1\n",
      "colonne dupliqué: (_card): ['id_card', 'client_id_card'] 2\n",
      "                id  client_id  card_id                 date   amount  \\\n",
      "0          7475327       1556     2972  2010-01-01 00:01:00  $-77.00   \n",
      "1          7475328        561     4575  2010-01-01 00:02:00   $14.57   \n",
      "2          7475329       1129      102  2010-01-01 00:02:00   $80.00   \n",
      "3          7475331        430     2860  2010-01-01 00:05:00  $200.00   \n",
      "4          7475332        848     3915  2010-01-01 00:06:00   $46.41   \n",
      "...            ...        ...      ...                  ...      ...   \n",
      "13305910  23761868       1718     2379  2019-10-31 23:56:00    $1.11   \n",
      "13305911  23761869       1766     2066  2019-10-31 23:56:00   $12.80   \n",
      "13305912  23761870        199     1031  2019-10-31 23:57:00   $40.44   \n",
      "13305913  23761873       1986     5443  2019-10-31 23:58:00    $4.00   \n",
      "13305914  23761874        489     5697  2019-10-31 23:59:00   $12.88   \n",
      "\n",
      "                    use_chip merchant_state   mcc errors  current_age  ...  \\\n",
      "0          Swipe Transaction             ND  5499    NaN           30  ...   \n",
      "1          Swipe Transaction             IA  5311    NaN           48  ...   \n",
      "2          Swipe Transaction             CA  4829    NaN           49  ...   \n",
      "3          Swipe Transaction             IN  4829    NaN           52  ...   \n",
      "4          Swipe Transaction             MD  5813    NaN           51  ...   \n",
      "...                      ...            ...   ...    ...          ...  ...   \n",
      "13305910    Chip Transaction             CA  5499    NaN           81  ...   \n",
      "13305911  Online Transaction            NaN  5815    NaN           62  ...   \n",
      "13305912   Swipe Transaction             TX  4900    NaN           67  ...   \n",
      "13305913    Chip Transaction             CA  5411    NaN           44  ...   \n",
      "13305914    Chip Transaction             TN  5921    NaN           36  ...   \n",
      "\n",
      "          card_brand        card_type has_chip num_cards_issued  credit_limit  \\\n",
      "0         Mastercard  Debit (Prepaid)      YES                2           $55   \n",
      "1         Mastercard           Credit      YES                1         $9100   \n",
      "2         Mastercard            Debit      YES                1        $14802   \n",
      "3         Mastercard            Debit       NO                2        $37634   \n",
      "4               Visa            Debit      YES                1        $19113   \n",
      "...              ...              ...      ...              ...           ...   \n",
      "13305910  Mastercard            Debit      YES                1        $26743   \n",
      "13305911  Mastercard            Debit      YES                1         $5141   \n",
      "13305912  Mastercard            Debit      YES                1        $17686   \n",
      "13305913        Visa            Debit      YES                2        $14036   \n",
      "13305914        Visa  Debit (Prepaid)      YES                1           $71   \n",
      "\n",
      "          acct_open_date year_pin_last_changed card_on_dark_web  \\\n",
      "0                05/2008                  2008               No   \n",
      "1                09/2005                  2015               No   \n",
      "2                01/2006                  2008               No   \n",
      "3                05/2004                  2006               No   \n",
      "4                07/2009                  2014               No   \n",
      "...                  ...                   ...              ...   \n",
      "13305910         03/2019                  2019               No   \n",
      "13305911         03/2004                  2012               No   \n",
      "13305912         02/2004                  2007               No   \n",
      "13305913         11/2005                  2010               No   \n",
      "13305914         11/2013                  2013               No   \n",
      "\n",
      "                                     mcc_description  fraud  \n",
      "0                          Miscellaneous Food Stores    0.0  \n",
      "1                                  Department Stores    0.0  \n",
      "2                                     Money Transfer    0.0  \n",
      "3                                     Money Transfer    NaN  \n",
      "4              Drinking Places (Alcoholic Beverages)    0.0  \n",
      "...                                              ...    ...  \n",
      "13305910                   Miscellaneous Food Stores    0.0  \n",
      "13305911          Digital Goods - Media, Books, Apps    0.0  \n",
      "13305912  Utilities - Electric, Gas, Water, Sanitary    0.0  \n",
      "13305913                Grocery Stores, Supermarkets    NaN  \n",
      "13305914          Package Stores, Beer, Wine, Liquor    NaN  \n",
      "\n",
      "[13305915 rows x 26 columns]\n"
     ]
    }
   ],
   "source": [
    "\"\"\"ÉTape 1 : retirer les  colonnes non essentiels avant le merged (sauver de la mémoire)\"\"\"\n",
    "\n",
    "\"\"\" Étape 1.1 : Nettoyer le fichier users_data.csv\"\"\"\n",
    "# Retrait de certaines colonnes :\n",
    "# pour users_data.csv = adress, latitude, longitude , car ce sont des identifiant non nécessaire\n",
    "#birth_year, birth_month, car nous avons current_age\n",
    "# Information pertinent sur les informations de la carte de crédit du client: current_age, gender,per_capita_income, yearly_income, total_debt, credit_score, num_credit_cards\n",
    "# la clef de jointure pour les autres fichiers : id\n",
    "users_data = pd.read_csv(\"data/users_data.csv\")\n",
    "colonnes_conserver = [\n",
    "    \"id\",              \n",
    "    \"current_age\",\n",
    "    \"gender\",\n",
    "    \"per_capita_income\",\n",
    "    \"yearly_income\",\n",
    "    \"total_debt\",\n",
    "    \"credit_score\",\n",
    "    \"num_credit_cards\",\n",
    "]\n",
    "\n",
    "users_data_nettoyer= users_data[colonnes_conserver].copy()\n",
    "\n",
    "\n",
    "\"\"\" Étape 1.2 : Nettoyer le fichier transactions_data.csv\"\"\"\n",
    "transactions = pd.read_csv(\"data/transactions_data.csv\")\n",
    "# exclusions de colonnes :\n",
    "# Merchant_id: propre au dataset, aucune valeur explicative\n",
    "#zip : trop spécifique et modalité uniques, faible valeur statisitques\n",
    "#merchant_city, pas de pertinence, sauf si on s'interesse en geographie\n",
    "colonnes_conserver = [\n",
    "    \"id\",             # identifiant transaction (clé de jointure avec fraud.json)\n",
    "    \"client_id\",      # jointure avec users_data_nettoyer\n",
    "    \"card_id\",        # jointure avec cards_nettoyer\n",
    "    \"date\",           # why not\n",
    "    \"amount\",\n",
    "    \"use_chip\",\n",
    "    \"merchant_state\", \n",
    "    \"mcc\",             # jointure avec mcc_codes.json  \n",
    "    \"errors\"\n",
    "]\n",
    "\n",
    "transactions_nettoyer= transactions[colonnes_conserver].copy()\n",
    "\n",
    "\"\"\" Étape 1.3 : Nettoyer le fichier cards_data.csv\"\"\"\n",
    "\n",
    "cards = pd.read_csv(\"data/cards_data.csv\")\n",
    "# retrait des colonnes card_number, cvv, acct_open_date, year_pin_last_changed\n",
    "# card_number et cvv sont des données sensibles non nécessaire dans les analyses\n",
    "#acct_open_date n'est pas une donnée pertinente\n",
    "#year_pin_last_changed, sauf vouloir faire des corrélations entre fraude et le changement des pins, a retirer\n",
    "colonnes_conserver = [\n",
    "    \"id\",                # clé pour joindre aux transactions (card_id)\n",
    "    \"client_id\",         # clé vers users.id\n",
    "    \"card_brand\",\n",
    "    \"card_type\",\n",
    "    \"has_chip\",\n",
    "    \"num_cards_issued\",\n",
    "    \"credit_limit\",\n",
    "    \"acct_open_date\",\n",
    "    \"year_pin_last_changed\",\n",
    "    \"card_on_dark_web\"\n",
    "]\n",
    "cards_nettoyer = cards[colonnes_conserver].copy()\n",
    "\n",
    "\n",
    "\n",
    "\"\"\"Étape 2  : fusion des fichiers \"\"\"\n",
    "# 2.1 Fusion transactions + users\n",
    "merged_df = transactions_nettoyer.merge(\n",
    "    users_data_nettoyer,\n",
    "    left_on=\"client_id\", \n",
    "    right_on=\"id\", \n",
    "    how=\"left\",\n",
    "    suffixes=(\"\", \"_user\")\n",
    ")\n",
    "#print(merged_df)\n",
    "user_cols = [c for c in merged_df.columns if c.endswith(\"_user\")]\n",
    "print(\"colonne dupliqué: (_user):\", user_cols, len(user_cols))\n",
    "merged_df = merged_df.drop(columns=user_cols)\n",
    "\n",
    "# 2.2 Fusion avec cards\n",
    "merged_df = merged_df.merge(\n",
    "    cards_nettoyer,\n",
    "    left_on=\"card_id\",\n",
    "    right_on=\"id\",\n",
    "    how=\"inner\",\n",
    "    suffixes=(\"\", \"_card\")\n",
    ")\n",
    "\n",
    "cards_cols = [c for c in merged_df.columns if c.endswith(\"_card\")]\n",
    "print(\"colonne dupliqué: (_card):\", cards_cols, len(cards_cols))\n",
    "merged_df = merged_df.drop(columns=cards_cols)\n",
    "\n",
    "\n",
    "\n",
    "# 2.3 fusion des MCC avec le json (cest un dictionnaire)\n",
    "with open(\"data/mcc_codes.json\", \"r\", encoding=\"utf-8\") as f:\n",
    "    mcc_map = json.load(f)\n",
    "\n",
    "# S'assurer que les mcc sont des strings pour matcher\n",
    "merged_df[\"mcc\"] = merged_df[\"mcc\"].astype(str)\n",
    "merged_df[\"mcc_description\"] = merged_df[\"mcc\"].map(mcc_map)\n",
    "\n",
    "\n",
    "\n",
    "# Étape 2.4  fusion des fraude \n",
    "with open(\"data/train_fraud_labels.json\", \"r\", encoding=\"utf-8\") as f:\n",
    "    fraud_map = json.load(f)[\"target\"]   # dict: transaction_id(str) -> \"Yes\"/\"No\"\n",
    "\n",
    "# Choisir la colonne id transaction\n",
    "tx_id_col = \"transaction_id\"\n",
    "\n",
    "# Mappe \"Yes\"/\"No\" puis convertit en 1/0\n",
    "merged_df[\"fraud\"] = (  ## certaines colonnes sont NaN, car ce n'est pas recenser sil est frauduleux ou non\n",
    "    merged_df[\"fraud\"] = merged_df[\"fraud\"].fillna(0).astype(int)  # je le met en binaire, vu que les algo aime le binaire, mais booleen sont chouettes too\n",
    ")\n",
    "print(merged_df)\n",
    "merged_df.to_csv(\"data/merged_df.csv\", index=False)\n"
   ]
  },
  {
   "cell_type": "markdown",
   "id": "196361b2",
   "metadata": {},
   "source": [
    "- **2. Nettoyage des données**  \n",
    "  - Valeurs manquantes  \n",
    "  - Doublons  \n",
    "  - Types de données  \n",
    "  - Incohérences  "
   ]
  },
  {
   "cell_type": "markdown",
   "id": "52f25144",
   "metadata": {},
   "source": [
    "- **3. Création de variables dérivées**  \n",
    "  - Heure de transaction  \n",
    "  - Jour de la semaine  \n",
    "  - Montant normalisé  \n",
    "  - Intervalle entre deux transactions  \n",
    "  - Autres pertinentes  "
   ]
  },
  {
   "cell_type": "markdown",
   "id": "04c4dd30",
   "metadata": {},
   "source": [
    "\n",
    "- **4. Visualisation exploratoire**  \n",
    "  - Diagrammes en secteurs des top 10 commerçants (revenus & nombre de transactions)  \n",
    "  - Visualisation des périodes de pointe  \n",
    "  - Interprétation  "
   ]
  },
  {
   "cell_type": "markdown",
   "id": "dfb81372",
   "metadata": {},
   "source": [
    "\n",
    "- **Encodage des variables catégorielles**  \n",
    "  - Codes MCC, types de cartes  \n",
    "  - Méthodes d’encodage testées (Label vs One-hot)  \n",
    "  - Justification des choix retenus "
   ]
  },
  {
   "cell_type": "markdown",
   "id": "b9be2e5f",
   "metadata": {},
   "source": [
    "# 3.2  Analyse d’association (20%)\n"
   ]
  },
  {
   "cell_type": "markdown",
   "id": "4f06d843",
   "metadata": {},
   "source": [
    "- **1. Préparation des transactions pour Apriori / FP-Growth**  \n",
    "  - Structure attendue   (apriori vs fp-growth)\n",
    "  - Préparation des transactions pour être compatibles avec chacune"
   ]
  },
  {
   "cell_type": "markdown",
   "id": "0b17db84",
   "metadata": {},
   "source": [
    "- **2.Extraction de règles d’association**  \n",
    "  - Exemples concrets  \n",
    "  - Patterns observés (habitudes de consommation, fidélité, etc.)"
   ]
  },
  {
   "cell_type": "markdown",
   "id": "cd6135e4",
   "metadata": {},
   "source": [
    "- **3. Codes MCC et types de commerces**  \n",
    "  - Dépenses élevées  \n",
    "  - Patterns comportementaux  \n"
   ]
  },
  {
   "cell_type": "markdown",
   "id": "03876b97",
   "metadata": {},
   "source": [
    "- **4. Associations types cartes ↔ commerçants**  \n",
    "  - Profils d’utilisation  "
   ]
  },
  {
   "cell_type": "markdown",
   "id": "45bc3c91",
   "metadata": {},
   "source": [
    "- **5.Combinaisons liées aux fraudes**  \n",
    "  - Montants élevés, heures tardives, types de commerçants"
   ]
  },
  {
   "cell_type": "markdown",
   "id": "ae3cfaa3",
   "metadata": {},
   "source": [
    "\n",
    "- **6. interprétation des métriques**  \n",
    "  - Support, confiance, lift  \n",
    "  - Visualisations des règles  "
   ]
  },
  {
   "cell_type": "markdown",
   "id": "3028e596",
   "metadata": {},
   "source": [
    "- **7. Choix des seuils (support, confiance)**  \n",
    "  - Justification en fonction du volume et de l’objectif  "
   ]
  },
  {
   "cell_type": "markdown",
   "id": "9672e1cd",
   "metadata": {},
   "source": [
    "# 3.3 Analyse de séquences (15%)"
   ]
  },
  {
   "cell_type": "markdown",
   "id": "113e6078",
   "metadata": {},
   "source": [
    "- **Construction des séquences de transactions**  \n",
    "  - Par client  \n",
    "  - Variables d’ordre  (horodatage, type de commer¸cant, montant, etc.)?"
   ]
  },
  {
   "cell_type": "markdown",
   "id": "c8bddc84",
   "metadata": {},
   "source": [
    "- **Application d’algorithmes (PrefixSpan, SPADE, EMMA)**  \n",
    "  - Parcours typiques identifiés  "
   ]
  },
  {
   "cell_type": "markdown",
   "id": "4e1ccea6",
   "metadata": {},
   "source": [
    "\n",
    "- **Habitudes et routines**  \n",
    "  - Parcours d’achat récurrents  (fréquences, routines ou habitudes récurrentes)"
   ]
  },
  {
   "cell_type": "markdown",
   "id": "c35f44b4",
   "metadata": {},
   "source": [
    "\n",
    "- **Patterns précurseurs de fraude**  \n",
    "  - Petites transactions → retrait → fraude  \n",
    "  - Interprétation  par motifs temporels ou comportementaux"
   ]
  },
  {
   "cell_type": "markdown",
   "id": "47b76261",
   "metadata": {},
   "source": [
    "\n",
    "- **Évolution du comportement client**  \n",
    "  - Séquences avec contraintes temporelles "
   ]
  },
  {
   "cell_type": "markdown",
   "id": "0487e86b",
   "metadata": {},
   "source": [
    "\n",
    "- **Visualisations**  \n",
    "  - Graphes de séquences fréquentes  \n",
    "  - Aide à l’interprétation  "
   ]
  },
  {
   "cell_type": "markdown",
   "id": "9d3b8321",
   "metadata": {},
   "source": [
    "# 3.4 Recommandation sur les associations ou séquences (10%)"
   ]
  },
  {
   "cell_type": "markdown",
   "id": "ebb6714b",
   "metadata": {},
   "source": [
    "- **Objectif : proposer des items complémentaires**  \n",
    "- **Méthodes testées :**  \n",
    "  - Règles d’association fréquentes  \n",
    "  - Séquences typiques  \n",
    "  - Similarité entre transactions  \n",
    "- **Implémentation d’un script Python autonome (`recommender.py`)**  \n",
    "- **Exemple de recommandations générées**  \n",
    "\n",
    "---"
   ]
  },
  {
   "cell_type": "markdown",
   "id": "661634ca",
   "metadata": {},
   "source": [
    "# 3.5 Analyse statistique comparative des classes (10%)"
   ]
  },
  {
   "cell_type": "markdown",
   "id": "7c54d2d3",
   "metadata": {},
   "source": [
    "- **Comparaison fraude vs légitime**  \n",
    "  - Scatter plots (2D, 3D)  \n",
    "  - Réduction de dimension (ACP, t-SNE, UMAP)  \n",
    "  - Regroupements et anomalies  \n"
   ]
  },
  {
   "cell_type": "markdown",
   "id": "d3d85cb8",
   "metadata": {},
   "source": [
    "- **Approche univariée**  \n",
    "  - Sélection de variables pertinentes  \n",
    "  - Tests statistiques (t-test, Mann-Whitney, KS-test)  \n",
    "  - Résultats comparés  "
   ]
  },
  {
   "cell_type": "markdown",
   "id": "98e9ff34",
   "metadata": {},
   "source": [
    "\n",
    "- **Approche multivariée**  \n",
    "  - Hotelling, analyse discriminante linéaire  \n",
    "  - Séparation des classes  \n",
    "  - Visualisations complémentaires "
   ]
  },
  {
   "cell_type": "markdown",
   "id": "73dafe6f",
   "metadata": {},
   "source": [
    "- **Discussion**  \n",
    "  - Avantages, limites et implications  \n",
    "  - Robustesse et pertinence des méthodes  \n",
    "\n",
    "---"
   ]
  },
  {
   "cell_type": "markdown",
   "id": "0c23abb2",
   "metadata": {},
   "source": [
    "# 3.6 Pr´esentation des r´esultats (20%)"
   ]
  },
  {
   "cell_type": "markdown",
   "id": "2d0cb454",
   "metadata": {},
   "source": [
    "\n",
    "- Objectif de chaque méthode (bref rappel)  \n",
    "- Démarche appliquée  \n",
    "- Résultats obtenus  \n",
    "- Commentaires et interprétations  \n",
    "- Visualisations pertinentes  \n",
    "- Citations des sources utilisées (obligatoires)  "
   ]
  }
 ],
 "metadata": {
  "kernelspec": {
   "display_name": "jupyter",
   "language": "python",
   "name": "python3"
  },
  "language_info": {
   "codemirror_mode": {
    "name": "ipython",
    "version": 3
   },
   "file_extension": ".py",
   "mimetype": "text/x-python",
   "name": "python",
   "nbconvert_exporter": "python",
   "pygments_lexer": "ipython3",
   "version": "3.11.13"
  }
 },
 "nbformat": 4,
 "nbformat_minor": 5
}
