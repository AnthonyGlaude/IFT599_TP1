{
 "cells": [
  {
   "cell_type": "markdown",
   "id": "0ea99dab",
   "metadata": {},
   "source": []
  },
  {
   "cell_type": "markdown",
   "id": "12208a01",
   "metadata": {},
   "source": [
    "# TP1 – Analyse des données (IFT599 / IFT799)\n",
    "\n",
    "**Auteurs :**  \n",
    "-  \n",
    "-  \n",
    "-  3\n",
    "\n",
    "**Date de remise :** 03 octobre 2025  \n"
   ]
  },
  {
   "cell_type": "code",
   "execution_count": 15,
   "id": "01a70c33",
   "metadata": {},
   "outputs": [],
   "source": [
    "import pandas as pd\n",
    "import json\n",
    "import numpy as np"
   ]
  },
  {
   "cell_type": "markdown",
   "id": "5ea44053",
   "metadata": {},
   "source": [
    "## 2. Jeu de données \n"
   ]
  },
  {
   "cell_type": "code",
   "execution_count": null,
   "id": "f6a4354e",
   "metadata": {},
   "outputs": [
    {
     "name": "stdout",
     "output_type": "stream",
     "text": [
      "Transaction         id                 date  client_id  card_id   amount  \\\n",
      "0  7475327  2010-01-01 00:01:00       1556     2972  $-77.00   \n",
      "1  7475328  2010-01-01 00:02:00        561     4575   $14.57   \n",
      "2  7475329  2010-01-01 00:02:00       1129      102   $80.00   \n",
      "\n",
      "            use_chip  merchant_id merchant_city merchant_state      zip   mcc  \\\n",
      "0  Swipe Transaction        59935        Beulah             ND  58523.0  5499   \n",
      "1  Swipe Transaction        67570    Bettendorf             IA  52722.0  5311   \n",
      "2  Swipe Transaction        27092         Vista             CA  92084.0  4829   \n",
      "\n",
      "  errors  \n",
      "0    NaN  \n",
      "1    NaN  \n",
      "2    NaN  \n",
      "cards      id  client_id card_brand card_type       card_number  expires  cvv  \\\n",
      "0  4524        825       Visa     Debit  4344676511950444  12/2022  623   \n",
      "1  2731        825       Visa     Debit  4956965974959986  12/2020  393   \n",
      "2  3701        825       Visa     Debit  4582313478255491  02/2024  719   \n",
      "\n",
      "  has_chip  num_cards_issued credit_limit acct_open_date  \\\n",
      "0      YES                 2       $24295        09/2002   \n",
      "1      YES                 2       $21968        04/2014   \n",
      "2      YES                 2       $46414        07/2003   \n",
      "\n",
      "   year_pin_last_changed card_on_dark_web  \n",
      "0                   2008               No  \n",
      "1                   2014               No  \n",
      "2                   2004               No  \n"
     ]
    }
   ],
   "source": [
    "\n",
    "\n",
    "#  Simplement pour visualiser les données qu'on a :)\n",
    "transactions = pd.read_csv(\"data/transactions_data.csv\")\n",
    "cards = pd.read_csv(\"data/cards_data.csv\")\n",
    "users = pd.read_csv(\"data/users_data.csv\")\n",
    "\n",
    "fraud = pd.read_json(\"data/train_fraud_labels.json\")\n",
    "with open(\"data/mcc_codes.json\", \"r\") as f:\n",
    "    mcc_dict = json.load(f)\n",
    "mcc = pd.DataFrame(list(mcc_dict.items()), columns=[\"mcc_code\", \"description\"])\n",
    "\n",
    "# Vérification rapide\n",
    "print(\"Transaction\", transactions.head(3))\n",
    "print(\"cards\",cards.head(3))\n",
    "\n"
   ]
  },
  {
   "cell_type": "code",
   "execution_count": 17,
   "id": "bdad918d",
   "metadata": {},
   "outputs": [
    {
     "name": "stdout",
     "output_type": "stream",
     "text": [
      "users      id  current_age  retirement_age  birth_year  birth_month  gender  \\\n",
      "0   825           53              66        1966           11  Female   \n",
      "1  1746           53              68        1966           12  Female   \n",
      "2  1718           81              67        1938           11  Female   \n",
      "\n",
      "                  address  latitude  longitude per_capita_income  \\\n",
      "0           462 Rose Lane     34.15    -117.76            $29278   \n",
      "1  3606 Federal Boulevard     40.76     -73.74            $37891   \n",
      "2         766 Third Drive     34.02    -117.89            $22681   \n",
      "\n",
      "  yearly_income total_debt  credit_score  num_credit_cards  \n",
      "0        $59696    $127613           787                 5  \n",
      "1        $77254    $191349           701                 5  \n",
      "2        $33483       $196           698                 5  \n"
     ]
    }
   ],
   "source": [
    "print(\"users\", users.head(3))"
   ]
  },
  {
   "cell_type": "code",
   "execution_count": 18,
   "id": "0c13363e",
   "metadata": {},
   "outputs": [
    {
     "name": "stdout",
     "output_type": "stream",
     "text": [
      "fraud          target\n",
      "10649266     No\n",
      "23410063     No\n",
      "9316588      No\n",
      "mcc   mcc_code                           description\n",
      "0     5812         Eating Places and Restaurants\n",
      "1     5541                      Service Stations\n",
      "2     7996  Amusement Parks, Carnivals, Circuses\n"
     ]
    }
   ],
   "source": [
    "print(\"fraud\", fraud.head(3))\n",
    "print(\"mcc\", mcc.head(3))"
   ]
  },
  {
   "cell_type": "markdown",
   "id": "0c88137f",
   "metadata": {},
   "source": [
    "# 3.1 Préparation des données (25%)\n",
    "\n",
    "- **Fusion des différents fichiers** (`transactions`, `cards`, `users`, `mcc`, `fraud`)  \n",
    "  - Clés de jointure utilisées  \n",
    "  - Vérifier lees colonnes dupliquées et suffixes `_x`, `_y`  (causés par pandas)\n",
    "  - Expliquer les choix "
   ]
  },
  {
   "cell_type": "markdown",
   "id": "d43813e0",
   "metadata": {},
   "source": [
    "\n",
    "- **1. Identification des variables peu pertinentes**  \n",
    "  - Liste des variables exclues  \n",
    "  - Justifications (faible variance, redondance, trop de valeurs manquantes, etc.)(liste dans le pdf)  \n",
    "  - Visualisations ou statistiques descriptives à l’appui  (généralement boxplot)"
   ]
  },
  {
   "cell_type": "markdown",
   "id": "196361b2",
   "metadata": {},
   "source": [
    "- **2. Nettoyage des données**  \n",
    "  - Valeurs manquantes  \n",
    "  - Doublons  \n",
    "  - Types de données  \n",
    "  - Incohérences  "
   ]
  },
  {
   "cell_type": "markdown",
   "id": "52f25144",
   "metadata": {},
   "source": [
    "- **3. Création de variables dérivées**  \n",
    "  - Heure de transaction  \n",
    "  - Jour de la semaine  \n",
    "  - Montant normalisé  \n",
    "  - Intervalle entre deux transactions  \n",
    "  - Autres pertinentes  "
   ]
  },
  {
   "cell_type": "markdown",
   "id": "04c4dd30",
   "metadata": {},
   "source": [
    "\n",
    "- **4. Visualisation exploratoire**  \n",
    "  - Diagrammes en secteurs des top 10 commerçants (revenus & nombre de transactions)  \n",
    "  - Visualisation des périodes de pointe  \n",
    "  - Interprétation  "
   ]
  },
  {
   "cell_type": "markdown",
   "id": "dfb81372",
   "metadata": {},
   "source": [
    "\n",
    "- **Encodage des variables catégorielles**  \n",
    "  - Codes MCC, types de cartes  \n",
    "  - Méthodes d’encodage testées (Label vs One-hot)  \n",
    "  - Justification des choix retenus "
   ]
  },
  {
   "cell_type": "markdown",
   "id": "b9be2e5f",
   "metadata": {},
   "source": [
    "# 3.2  Analyse d’association (20%)\n"
   ]
  },
  {
   "cell_type": "markdown",
   "id": "4f06d843",
   "metadata": {},
   "source": [
    "- **1. Préparation des transactions pour Apriori / FP-Growth**  \n",
    "  - Structure attendue   (apriori vs fp-growth)\n",
    "  - Préparation des transactions pour être compatibles avec chacune"
   ]
  },
  {
   "cell_type": "markdown",
   "id": "0b17db84",
   "metadata": {},
   "source": [
    "- **2.Extraction de règles d’association**  \n",
    "  - Exemples concrets  \n",
    "  - Patterns observés (habitudes de consommation, fidélité, etc.)"
   ]
  },
  {
   "cell_type": "markdown",
   "id": "cd6135e4",
   "metadata": {},
   "source": [
    "- **3. Codes MCC et types de commerces**  \n",
    "  - Dépenses élevées  \n",
    "  - Patterns comportementaux  \n"
   ]
  },
  {
   "cell_type": "markdown",
   "id": "03876b97",
   "metadata": {},
   "source": [
    "- **4. Associations types cartes ↔ commerçants**  \n",
    "  - Profils d’utilisation  "
   ]
  },
  {
   "cell_type": "markdown",
   "id": "45bc3c91",
   "metadata": {},
   "source": [
    "- **5.Combinaisons liées aux fraudes**  \n",
    "  - Montants élevés, heures tardives, types de commerçants"
   ]
  },
  {
   "cell_type": "markdown",
   "id": "ae3cfaa3",
   "metadata": {},
   "source": [
    "\n",
    "- **6. interprétation des métriques**  \n",
    "  - Support, confiance, lift  \n",
    "  - Visualisations des règles  "
   ]
  },
  {
   "cell_type": "markdown",
   "id": "3028e596",
   "metadata": {},
   "source": [
    "- **7. Choix des seuils (support, confiance)**  \n",
    "  - Justification en fonction du volume et de l’objectif  "
   ]
  },
  {
   "cell_type": "markdown",
   "id": "9672e1cd",
   "metadata": {},
   "source": [
    "# 3.3 Analyse de séquences (15%)"
   ]
  },
  {
   "cell_type": "markdown",
   "id": "113e6078",
   "metadata": {},
   "source": [
    "- **Construction des séquences de transactions**  \n",
    "  - Par client  \n",
    "  - Variables d’ordre  (horodatage, type de commer¸cant, montant, etc.)?"
   ]
  },
  {
   "cell_type": "markdown",
   "id": "c8bddc84",
   "metadata": {},
   "source": [
    "- **Application d’algorithmes (PrefixSpan, SPADE, EMMA)**  \n",
    "  - Parcours typiques identifiés  "
   ]
  },
  {
   "cell_type": "markdown",
   "id": "4e1ccea6",
   "metadata": {},
   "source": [
    "\n",
    "- **Habitudes et routines**  \n",
    "  - Parcours d’achat récurrents  (fréquences, routines ou habitudes récurrentes)"
   ]
  },
  {
   "cell_type": "markdown",
   "id": "c35f44b4",
   "metadata": {},
   "source": [
    "\n",
    "- **Patterns précurseurs de fraude**  \n",
    "  - Petites transactions → retrait → fraude  \n",
    "  - Interprétation  par motifs temporels ou comportementaux"
   ]
  },
  {
   "cell_type": "markdown",
   "id": "47b76261",
   "metadata": {},
   "source": [
    "\n",
    "- **Évolution du comportement client**  \n",
    "  - Séquences avec contraintes temporelles "
   ]
  },
  {
   "cell_type": "markdown",
   "id": "0487e86b",
   "metadata": {},
   "source": [
    "\n",
    "- **Visualisations**  \n",
    "  - Graphes de séquences fréquentes  \n",
    "  - Aide à l’interprétation  "
   ]
  },
  {
   "cell_type": "markdown",
   "id": "9d3b8321",
   "metadata": {},
   "source": [
    "# 3.4 Recommandation sur les associations ou séquences (10%)"
   ]
  },
  {
   "cell_type": "markdown",
   "id": "ebb6714b",
   "metadata": {},
   "source": [
    "- **Objectif : proposer des items complémentaires**  \n",
    "- **Méthodes testées :**  \n",
    "  - Règles d’association fréquentes  \n",
    "  - Séquences typiques  \n",
    "  - Similarité entre transactions  \n",
    "- **Implémentation d’un script Python autonome (`recommender.py`)**  \n",
    "- **Exemple de recommandations générées**  \n",
    "\n",
    "---"
   ]
  },
  {
   "cell_type": "markdown",
   "id": "661634ca",
   "metadata": {},
   "source": [
    "# 3.5 Analyse statistique comparative des classes (10%)"
   ]
  },
  {
   "cell_type": "markdown",
   "id": "7c54d2d3",
   "metadata": {},
   "source": [
    "- **Comparaison fraude vs légitime**  \n",
    "  - Scatter plots (2D, 3D)  \n",
    "  - Réduction de dimension (ACP, t-SNE, UMAP)  \n",
    "  - Regroupements et anomalies  \n"
   ]
  },
  {
   "cell_type": "markdown",
   "id": "d3d85cb8",
   "metadata": {},
   "source": [
    "- **Approche univariée**  \n",
    "  - Sélection de variables pertinentes  \n",
    "  - Tests statistiques (t-test, Mann-Whitney, KS-test)  \n",
    "  - Résultats comparés  "
   ]
  },
  {
   "cell_type": "markdown",
   "id": "98e9ff34",
   "metadata": {},
   "source": [
    "\n",
    "- **Approche multivariée**  \n",
    "  - Hotelling, analyse discriminante linéaire  \n",
    "  - Séparation des classes  \n",
    "  - Visualisations complémentaires "
   ]
  },
  {
   "cell_type": "markdown",
   "id": "73dafe6f",
   "metadata": {},
   "source": [
    "- **Discussion**  \n",
    "  - Avantages, limites et implications  \n",
    "  - Robustesse et pertinence des méthodes  \n",
    "\n",
    "---"
   ]
  },
  {
   "cell_type": "markdown",
   "id": "0c23abb2",
   "metadata": {},
   "source": [
    "# 3.6 Pr´esentation des r´esultats (20%)"
   ]
  },
  {
   "cell_type": "markdown",
   "id": "2d0cb454",
   "metadata": {},
   "source": [
    "\n",
    "- Objectif de chaque méthode (bref rappel)  \n",
    "- Démarche appliquée  \n",
    "- Résultats obtenus  \n",
    "- Commentaires et interprétations  \n",
    "- Visualisations pertinentes  \n",
    "- Citations des sources utilisées (obligatoires)  "
   ]
  }
 ],
 "metadata": {
  "kernelspec": {
   "display_name": "base",
   "language": "python",
   "name": "python3"
  },
  "language_info": {
   "codemirror_mode": {
    "name": "ipython",
    "version": 3
   },
   "file_extension": ".py",
   "mimetype": "text/x-python",
   "name": "python",
   "nbconvert_exporter": "python",
   "pygments_lexer": "ipython3",
   "version": "3.12.3"
  }
 },
 "nbformat": 4,
 "nbformat_minor": 5
}
